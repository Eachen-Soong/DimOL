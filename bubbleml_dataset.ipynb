{
 "cells": [
  {
   "cell_type": "markdown",
   "metadata": {},
   "source": [
    "BubbleML dataset 2D:\n",
    "field channels: \\[T, X, Y\\]\n",
    "constant channels: N_c\n",
    "\n",
    "Our format:\n",
    "field channels: \\[N, X, Y, T\\]"
   ]
  },
  {
   "cell_type": "code",
   "execution_count": 1,
   "metadata": {},
   "outputs": [],
   "source": [
    "import h5py\n",
    "import numpy as np"
   ]
  },
  {
   "cell_type": "code",
   "execution_count": 2,
   "metadata": {},
   "outputs": [
    {
     "name": "stdout",
     "output_type": "stream",
     "text": [
      "dfun (500, 288, 96)\n",
      "pressure (500, 288, 96)\n",
      "temperature (500, 288, 96)\n",
      "velx (500, 288, 96)\n",
      "vely (500, 288, 96)\n",
      "x (500, 288, 96)\n",
      "y (500, 288, 96)\n"
     ]
    }
   ],
   "source": [
    "data_path = '../../data/BubbleML/SingleBubble.hdf5'\n",
    "data = h5py.File(data_path, 'r')\n",
    "# print(type(data['f']),type(data))\n",
    "\n",
    "for name in data:\n",
    "    print(name, data[name].shape)"
   ]
  },
  {
   "cell_type": "code",
   "execution_count": null,
   "metadata": {},
   "outputs": [],
   "source": []
  }
 ],
 "metadata": {
  "kernelspec": {
   "display_name": "test",
   "language": "python",
   "name": "python3"
  },
  "language_info": {
   "codemirror_mode": {
    "name": "ipython",
    "version": 3
   },
   "file_extension": ".py",
   "mimetype": "text/x-python",
   "name": "python",
   "nbconvert_exporter": "python",
   "pygments_lexer": "ipython3",
   "version": "3.10.14"
  }
 },
 "nbformat": 4,
 "nbformat_minor": 2
}
