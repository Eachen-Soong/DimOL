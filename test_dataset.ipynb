{
 "cells": [
  {
   "cell_type": "code",
   "execution_count": 3,
   "metadata": {},
   "outputs": [],
   "source": [
    "import scipy\n",
    "\n",
    "data_path = \"/home/yichen/repo/cfd/myFNO/data/zongyi/NavierStokes_V1e-5_N1200_T20.mat\"\n",
    "data = scipy.io.loadmat(data_path)"
   ]
  },
  {
   "cell_type": "code",
   "execution_count": 8,
   "metadata": {},
   "outputs": [
    {
     "data": {
      "text/plain": [
       "0.08791685"
      ]
     },
     "execution_count": 8,
     "metadata": {},
     "output_type": "execute_result"
    }
   ],
   "source": [
    "import numpy as np\n",
    "np.sum(data['u'][0, :, :, 0] - data['a'][0, :, :])"
   ]
  },
  {
   "cell_type": "code",
   "execution_count": null,
   "metadata": {},
   "outputs": [],
   "source": [
    "import types\n"
   ]
  },
  {
   "cell_type": "code",
   "execution_count": 1,
   "metadata": {},
   "outputs": [],
   "source": [
    "from neuralop.datasets.autoregressive_dataset import load_autoregressive_traintestsplit\n",
    "data_path = \"/home/yichen/repo/cfd/myFNO/data/zongyi/NavierStokes_V1e-5_N1200_T20.mat\"\n",
    "\n",
    "n_train = 1000\n",
    "n_test = 200\n",
    "batch_size = 32\n",
    "test_batch_size = 64\n",
    "train_subsample_rate = 1\n",
    "test_subsample_rate = 1\n",
    "time_step = 1\n",
    "train_loader, test_loader = load_autoregressive_traintestsplit(\n",
    "    data_path,\n",
    "    n_train, n_test,\n",
    "    batch_size, test_batch_size, \n",
    "    train_subsample_rate, test_subsample_rate,\n",
    "    time_step,\n",
    "    predict_feature='u',\n",
    ")"
   ]
  },
  {
   "cell_type": "code",
   "execution_count": 2,
   "metadata": {},
   "outputs": [],
   "source": [
    "import torch\n",
    "import matplotlib.pyplot as plt\n",
    "import sys\n",
    "from neuralop.models import TFNO\n",
    "from neuralop import Trainer\n",
    "from torch.utils.data import Dataset, DataLoader\n",
    "\n",
    "from neuralop.datasets.autoregressive_dataset import AutoregressiveDataset\n",
    "from torch.utils.data import DataLoader\n",
    "import h5py\n",
    "import numpy as np"
   ]
  },
  {
   "cell_type": "code",
   "execution_count": 5,
   "metadata": {},
   "outputs": [
    {
     "name": "stdout",
     "output_type": "stream",
     "text": [
      "<class 'h5py._hl.dataset.Dataset'> <class 'h5py._hl.files.File'>\n",
      "y torch.Size([2, 64, 64])\n",
      "f torch.Size([2, 64, 64])\n",
      "mu torch.Size([2])\n",
      "x torch.Size([2, 64, 64])\n"
     ]
    }
   ],
   "source": [
    "from torch.utils.data import DataLoader\n",
    "data_path = \"./neuralop/datasets/data/ns_random_forces_toy1.h5\"\n",
    "data = h5py.File(data_path, 'r')\n",
    "print(type(data['f']),type(data))\n",
    "\n",
    "dataset1 = AutoregressiveDataset(data, subsample_rate=4, time_step=8)\n",
    "dataloader1 = DataLoader(dataset1, batch_size=2, shuffle=False)\n",
    "\n",
    "for i, data in enumerate(dataloader1):\n",
    "    for name in data:\n",
    "        print(name, data[name].shape)\n",
    "    break"
   ]
  },
  {
   "cell_type": "code",
   "execution_count": null,
   "metadata": {},
   "outputs": [],
   "source": []
  },
  {
   "cell_type": "code",
   "execution_count": 1,
   "metadata": {},
   "outputs": [
    {
     "name": "stdout",
     "output_type": "stream",
     "text": [
      "Objects in the HDF5 file:\n",
      "a_temp\n"
     ]
    },
    {
     "ename": "TypeError",
     "evalue": "Only 1D arrays allowed for fancy indexing",
     "output_type": "error",
     "traceback": [
      "\u001b[0;31m---------------------------------------------------------------------------\u001b[0m",
      "\u001b[0;31mTypeError\u001b[0m                                 Traceback (most recent call last)",
      "\u001b[1;32m/home/yichen/repo/cfd/myNeuralOperator/test_dataset.ipynb 单元格 6\u001b[0m line \u001b[0;36m1\n\u001b[1;32m     <a href='vscode-notebook-cell:/home/yichen/repo/cfd/myNeuralOperator/test_dataset.ipynb#W5sZmlsZQ%3D%3D?line=10'>11</a>\u001b[0m \u001b[39mprint\u001b[39m(name)\n\u001b[1;32m     <a href='vscode-notebook-cell:/home/yichen/repo/cfd/myNeuralOperator/test_dataset.ipynb#W5sZmlsZQ%3D%3D?line=11'>12</a>\u001b[0m \u001b[39mfor\u001b[39;00m dataset_name \u001b[39min\u001b[39;00m data_f[name]:\n\u001b[0;32m---> <a href='vscode-notebook-cell:/home/yichen/repo/cfd/myNeuralOperator/test_dataset.ipynb#W5sZmlsZQ%3D%3D?line=12'>13</a>\u001b[0m     dataset \u001b[39m=\u001b[39m data_f[name][dataset_name]\n\u001b[1;32m     <a href='vscode-notebook-cell:/home/yichen/repo/cfd/myNeuralOperator/test_dataset.ipynb#W5sZmlsZQ%3D%3D?line=13'>14</a>\u001b[0m     \u001b[39mprint\u001b[39m(dataset_name, dataset\u001b[39m.\u001b[39mshape)\n",
      "File \u001b[0;32mh5py/_objects.pyx:54\u001b[0m, in \u001b[0;36mh5py._objects.with_phil.wrapper\u001b[0;34m()\u001b[0m\n",
      "File \u001b[0;32mh5py/_objects.pyx:55\u001b[0m, in \u001b[0;36mh5py._objects.with_phil.wrapper\u001b[0;34m()\u001b[0m\n",
      "File \u001b[0;32m~/anaconda3/envs/test/lib/python3.10/site-packages/h5py/_hl/dataset.py:831\u001b[0m, in \u001b[0;36mDataset.__getitem__\u001b[0;34m(self, args, new_dtype)\u001b[0m\n\u001b[1;32m    826\u001b[0m     \u001b[39mreturn\u001b[39;00m arr\n\u001b[1;32m    828\u001b[0m \u001b[39m# === Everything else ===================\u001b[39;00m\n\u001b[1;32m    829\u001b[0m \n\u001b[1;32m    830\u001b[0m \u001b[39m# Perform the dataspace selection.\u001b[39;00m\n\u001b[0;32m--> 831\u001b[0m selection \u001b[39m=\u001b[39m sel\u001b[39m.\u001b[39;49mselect(\u001b[39mself\u001b[39;49m\u001b[39m.\u001b[39;49mshape, args, dataset\u001b[39m=\u001b[39;49m\u001b[39mself\u001b[39;49m)\n\u001b[1;32m    833\u001b[0m \u001b[39mif\u001b[39;00m selection\u001b[39m.\u001b[39mnselect \u001b[39m==\u001b[39m \u001b[39m0\u001b[39m:\n\u001b[1;32m    834\u001b[0m     \u001b[39mreturn\u001b[39;00m numpy\u001b[39m.\u001b[39mzeros(selection\u001b[39m.\u001b[39marray_shape, dtype\u001b[39m=\u001b[39mnew_dtype)\n",
      "File \u001b[0;32m~/anaconda3/envs/test/lib/python3.10/site-packages/h5py/_hl/selections.py:82\u001b[0m, in \u001b[0;36mselect\u001b[0;34m(shape, args, dataset)\u001b[0m\n\u001b[1;32m     79\u001b[0m     space \u001b[39m=\u001b[39m h5s\u001b[39m.\u001b[39mcreate_simple(shape)\n\u001b[1;32m     80\u001b[0m     selector \u001b[39m=\u001b[39m _selector\u001b[39m.\u001b[39mSelector(space)\n\u001b[0;32m---> 82\u001b[0m \u001b[39mreturn\u001b[39;00m selector\u001b[39m.\u001b[39;49mmake_selection(args)\n",
      "File \u001b[0;32mh5py/_selector.pyx:282\u001b[0m, in \u001b[0;36mh5py._selector.Selector.make_selection\u001b[0;34m()\u001b[0m\n",
      "File \u001b[0;32mh5py/_selector.pyx:177\u001b[0m, in \u001b[0;36mh5py._selector.Selector.apply_args\u001b[0;34m()\u001b[0m\n",
      "\u001b[0;31mTypeError\u001b[0m: Only 1D arrays allowed for fancy indexing"
     ]
    }
   ],
   "source": [
    "# First alter the old dataset to fit the neuraloperator scheme:\n",
    "# The old dataset is from F-FNO (Tran. etl)\n",
    "import h5py\n",
    "import numpy as np\n",
    "\n",
    "data_path = \"./neuralop/datasets/data/ns_random_forces_.h5\"\n",
    "data_f = h5py.File(data_path, 'r')\n",
    "\n",
    "print(\"Objects in the HDF5 file:\")\n",
    "for name in data_f:\n",
    "    print(name)\n",
    "    for dataset_name in data_f[name]:\n",
    "        dataset = data_f[name][dataset_name]\n",
    "        print(dataset_name, dataset.shape)"
   ]
  },
  {
   "cell_type": "code",
   "execution_count": null,
   "metadata": {},
   "outputs": [],
   "source": []
  },
  {
   "cell_type": "code",
   "execution_count": 1,
   "metadata": {},
   "outputs": [
    {
     "ename": "",
     "evalue": "",
     "output_type": "error",
     "traceback": [
      "\u001b[1;31m在当前单元格或上一个单元格中执行代码时 Kernel 崩溃。请查看单元格中的代码，以确定故障的可能原因。有关详细信息，请单击 <a href='https://aka.ms/vscodeJupyterKernelCrash'>此处</a>。有关更多详细信息，请查看 Jupyter <a href='command:jupyter.viewOutput'>log</a>。"
     ]
    }
   ],
   "source": [
    "import h5py\n",
    "import numpy as np\n",
    "\n",
    "def merge_dataset(f_in, f_out):\n",
    "    # Copy 'train' datasets if not exist in output\n",
    "    for data_name in f_in['train']:\n",
    "        if data_name not in f_out:\n",
    "            f_out.create_dataset(data_name, data=f_in['train'][data_name])\n",
    "\n",
    "    for group_name in ['test', 'valid']:\n",
    "        for data_name in f_in[group_name]:\n",
    "            data = f_in[group_name][data_name][:]\n",
    "            if data_name in f_out:\n",
    "                # Concatenate and replace existing dataset\n",
    "                existing_data = f_out[data_name][:]\n",
    "                concatenated_data = np.concatenate((existing_data, data), axis=0)\n",
    "                del f_out[data_name]  # Delete the old dataset\n",
    "                f_out.create_dataset(data_name, data=concatenated_data)  # Create new with concatenated data\n",
    "            else:\n",
    "                # Create new dataset if not exist\n",
    "                f_out.create_dataset(data_name, data=data)\n",
    "\n",
    "input_file = \"./neuralop/datasets/data/ns_random_forces_mini.h5\"\n",
    "output_file = \"./neuralop/datasets/data/ns_random_forces_1.h5\"\n",
    "with h5py.File(input_file, 'r') as f_in:\n",
    "    with h5py.File(output_file, 'a') as f_out:  # Open in append mode\n",
    "        merge_dataset(f_in, f_out)\n",
    "\n",
    "        # Read the data into memory\n",
    "        a_data = f_out['a'][:]\n",
    "        u_data = f_out['u'][:]\n",
    "\n",
    "        # Process the data\n",
    "        expanded_a_data = np.expand_dims(a_data, axis=-1)\n",
    "        concatenated_data = np.concatenate((expanded_a_data, u_data), axis=-1)\n",
    "\n",
    "        # Replace the 'u' dataset\n",
    "        del f_out['u']  # Delete the existing 'u' dataset\n",
    "        f_out.create_dataset('u', data=concatenated_data)\n",
    "\n",
    "        # Optionally, delete the 'a' dataset if no longer needed\n",
    "        del f_out['a']"
   ]
  },
  {
   "cell_type": "code",
   "execution_count": 4,
   "metadata": {},
   "outputs": [
    {
     "name": "stdout",
     "output_type": "stream",
     "text": [
      "a=1\n"
     ]
    }
   ],
   "source": [
    "class test_class:\n",
    "    def __init__(self, name):\n",
    "        self.name = name\n",
    "\n",
    "    def __str__(self):\n",
    "        return self.name\n",
    "    \n",
    "class test_subclass(test_class):\n",
    "    def __init__(self, name, **kargs):\n",
    "        super().__init__(name)\n",
    "        self.name = name + \"!\"\n",
    "        self.kargs = kargs\n",
    "        self.age = kargs['age']\n",
    "\n",
    "    def __str__(self):\n",
    "        return self.name"
   ]
  },
  {
   "cell_type": "code",
   "execution_count": 1,
   "metadata": {},
   "outputs": [],
   "source": [
    "import h5py\n",
    "\n",
    "def copy_h5_contents(old_filename, new_filename, include_groups=None):\n",
    "    \"\"\"\n",
    "    Copy specific groups and datasets from an old HDF5 file to a new one.\n",
    "\n",
    "    :param old_filename: Path to the source HDF5 file.\n",
    "    :param new_filename: Path to the destination HDF5 file.\n",
    "    :param include_groups: List of groups to include in the copy. If None, all groups will be copied.\n",
    "    \"\"\"\n",
    "    with h5py.File(old_filename, 'r') as old_file, h5py.File(new_filename, 'w') as new_file:\n",
    "        # If no specific groups are specified, copy everything\n",
    "        if include_groups is None:\n",
    "            include_groups = list(old_file.keys())\n",
    "\n",
    "        # Copy only the specified groups\n",
    "        for group in include_groups:\n",
    "            if group in old_file:\n",
    "                old_file.copy(group, new_file)\n",
    "\n",
    "input_file = \"./neuralop/datasets/data/ns_random_forces_1.h5\"\n",
    "output_file = \"./neuralop/datasets/data/ns_random_forces_2.h5\"\n",
    "copy_h5_contents(input_file, output_file)"
   ]
  },
  {
   "cell_type": "code",
   "execution_count": 3,
   "metadata": {},
   "outputs": [],
   "source": [
    "input_file = \"./neuralop/datasets/data/ns_random_forces_2.h5\"\n",
    "output_file = \"./neuralop/datasets/data/ns_random_forces_1.h5\"\n",
    "copy_h5_contents(input_file, output_file, include_groups=['u', 'f', 'mu'])"
   ]
  },
  {
   "cell_type": "code",
   "execution_count": 4,
   "metadata": {},
   "outputs": [
    {
     "name": "stdout",
     "output_type": "stream",
     "text": [
      "Objects in the HDF5 file:\n",
      "f (200, 256, 256)\n",
      "mu (200,)\n",
      "u (200, 256, 256, 201)\n"
     ]
    }
   ],
   "source": [
    "data_path = \"./neuralop/datasets/data/ns_random_forces_1.h5\"\n",
    "data_f = h5py.File(data_path, 'r')\n",
    "\n",
    "print(\"Objects in the HDF5 file:\")\n",
    "\n",
    "for data_name in data_f:\n",
    "        data = data_f[data_name]\n",
    "        print(data_name, data.shape)"
   ]
  },
  {
   "cell_type": "code",
   "execution_count": null,
   "metadata": {},
   "outputs": [],
   "source": [
    "import torch\n",
    "import matplotlib.pyplot as plt\n",
    "import sys\n",
    "from neuralop.models import TFNO\n",
    "from neuralop import Trainer\n",
    "from neuralop.training import OutputEncoderCallback\n",
    "from neuralop.datasets import load_darcy_flow_small\n",
    "from neuralop.utils import count_params\n",
    "from neuralop import LpLoss, H1Loss\n",
    "\n",
    "device = 'cpu'\n",
    "\n",
    "from neuralop.datasets import load_ns_contextual_h5\n",
    "\n",
    "data_path = \"./neuralop/datasets/data/ns_random_forces_toy.h5\"\n",
    "ssr = 4\n",
    "k = 8\n",
    "batch_size = 256\n",
    "\n",
    "# train_loader, test_loaders, output_encoder = \\\n",
    "#     load_ns_contextual_h5(data_path, batch_size=batch_size, test_batch_sizes=[batch_size],\n",
    "#                           train_resolution=64, test_resolutions=[64])\n",
    "\n",
    "# First load the dataset\n"
   ]
  }
 ],
 "metadata": {
  "kernelspec": {
   "display_name": "test",
   "language": "python",
   "name": "python3"
  },
  "language_info": {
   "codemirror_mode": {
    "name": "ipython",
    "version": 3
   },
   "file_extension": ".py",
   "mimetype": "text/x-python",
   "name": "python",
   "nbconvert_exporter": "python",
   "pygments_lexer": "ipython3",
   "version": "3.10.0"
  }
 },
 "nbformat": 4,
 "nbformat_minor": 2
}
