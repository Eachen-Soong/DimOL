{
 "cells": [
  {
   "cell_type": "code",
   "execution_count": 2,
   "metadata": {},
   "outputs": [],
   "source": [
    "import torch\n",
    "import matplotlib.pyplot as plt\n",
    "import sys\n",
    "from neuralop.models import TFNO\n",
    "from neuralop import Trainer\n",
    "from torch.utils.data import Dataset, DataLoader\n",
    "\n",
    "from neuralop.datasets.autoregressive_dataset import AutoregressiveDataset\n",
    "from torch.utils.data import DataLoader\n",
    "import h5py\n",
    "import numpy as np"
   ]
  },
  {
   "cell_type": "code",
   "execution_count": 5,
   "metadata": {},
   "outputs": [
    {
     "name": "stdout",
     "output_type": "stream",
     "text": [
      "<class 'h5py._hl.dataset.Dataset'> <class 'h5py._hl.files.File'>\n",
      "y torch.Size([2, 64, 64])\n",
      "f torch.Size([2, 64, 64])\n",
      "mu torch.Size([2])\n",
      "x torch.Size([2, 64, 64])\n"
     ]
    }
   ],
   "source": [
    "from torch.utils.data import DataLoader\n",
    "data_path = \"./neuralop/datasets/data/ns_random_forces_toy1.h5\"\n",
    "data = h5py.File(data_path, 'r')\n",
    "print(type(data['f']),type(data))\n",
    "\n",
    "dataset1 = AutoregressiveDataset(data, subsample_rate=4, time_step=8)\n",
    "dataloader1 = DataLoader(dataset1, batch_size=2, shuffle=False)\n",
    "\n",
    "for i, data in enumerate(dataloader1):\n",
    "    for name in data:\n",
    "        print(name, data[name].shape)\n",
    "    break"
   ]
  },
  {
   "cell_type": "code",
   "execution_count": 10,
   "metadata": {},
   "outputs": [
    {
     "data": {
      "text/plain": [
       "torch.Tensor"
      ]
     },
     "execution_count": 10,
     "metadata": {},
     "output_type": "execute_result"
    }
   ],
   "source": [
    "x = data['f'][0:10]\n",
    "type(x)"
   ]
  },
  {
   "cell_type": "code",
   "execution_count": 9,
   "metadata": {},
   "outputs": [
    {
     "data": {
      "text/plain": [
       "tensor([[[0.3306, 0.1331],\n",
       "         [0.1505, 0.1327]],\n",
       "\n",
       "        [[0.3306, 0.1331],\n",
       "         [0.1505, 0.1327]]])"
      ]
     },
     "execution_count": 9,
     "metadata": {},
     "output_type": "execute_result"
    }
   ],
   "source": [
    "x[:, ::32, ::32, ...]"
   ]
  },
  {
   "cell_type": "code",
   "execution_count": null,
   "metadata": {},
   "outputs": [],
   "source": []
  },
  {
   "cell_type": "code",
   "execution_count": 28,
   "metadata": {},
   "outputs": [
    {
     "name": "stdout",
     "output_type": "stream",
     "text": [
      "Objects in the HDF5 file:\n",
      "test\n",
      "a (1, 256, 256)\n",
      "f (1, 256, 256)\n",
      "mu (1,)\n",
      "u (1, 256, 256, 200)\n",
      "train\n",
      "a (1, 256, 256)\n",
      "f (1, 256, 256)\n",
      "mu (1,)\n",
      "u (1, 256, 256, 200)\n",
      "valid\n",
      "a (1, 256, 256)\n",
      "f (1, 256, 256)\n",
      "mu (1,)\n",
      "u (1, 256, 256, 200)\n"
     ]
    }
   ],
   "source": [
    "# First alter the old dataset to fit the neuraloperator scheme:\n",
    "# The old dataset is from F-FNO (Tran. etl)\n",
    "import h5py\n",
    "import numpy as np\n",
    "\n",
    "data_path = \"./neuralop/datasets/data/ns_random_forces_toy.h5\"\n",
    "data_f = h5py.File(data_path, 'r')\n",
    "\n",
    "print(\"Objects in the HDF5 file:\")\n",
    "for name in data_f:\n",
    "    print(name)\n",
    "    for dataset_name in data_f[name]:\n",
    "        dataset = data_f[name][dataset_name]\n",
    "        print(dataset_name, dataset.shape)"
   ]
  },
  {
   "cell_type": "code",
   "execution_count": 26,
   "metadata": {},
   "outputs": [],
   "source": [
    "import h5py\n",
    "import numpy as np\n",
    "\n",
    "def merge_dataset(f_in, f_out):\n",
    "    # Copy 'train' datasets if not exist in output\n",
    "    for data_name in f_in['train']:\n",
    "        if data_name not in f_out:\n",
    "            f_out.create_dataset(data_name, data=f_in['train'][data_name])\n",
    "\n",
    "    for group_name in ['test', 'valid']:\n",
    "        for data_name in f_in[group_name]:\n",
    "            data = f_in[group_name][data_name][:]\n",
    "            if data_name in f_out:\n",
    "                # Concatenate and replace existing dataset\n",
    "                existing_data = f_out[data_name][:]\n",
    "                concatenated_data = np.concatenate((existing_data, data), axis=0)\n",
    "                del f_out[data_name]  # Delete the old dataset\n",
    "                f_out.create_dataset(data_name, data=concatenated_data)  # Create new with concatenated data\n",
    "            else:\n",
    "                # Create new dataset if not exist\n",
    "                f_out.create_dataset(data_name, data=data)\n",
    "\n",
    "input_file = \"./neuralop/datasets/data/ns_random_forces_toy.h5\"\n",
    "output_file = \"./neuralop/datasets/data/ns_random_forces_toy1.h5\"\n",
    "with h5py.File(input_file, 'r') as f_in:\n",
    "    with h5py.File(output_file, 'a') as f_out:  # Open in append mode\n",
    "        merge_dataset(f_in, f_out)\n",
    "\n",
    "        # Read the data into memory\n",
    "        a_data = f_out['a'][:]\n",
    "        u_data = f_out['u'][:]\n",
    "\n",
    "        # Process the data\n",
    "        expanded_a_data = np.expand_dims(a_data, axis=-1)\n",
    "        concatenated_data = np.concatenate((expanded_a_data, u_data), axis=-1)\n",
    "\n",
    "        # Replace the 'u' dataset\n",
    "        del f_out['u']  # Delete the existing 'u' dataset\n",
    "        f_out.create_dataset('u', data=concatenated_data)\n",
    "\n",
    "        # Optionally, delete the 'a' dataset if no longer needed\n",
    "        del f_out['a']"
   ]
  },
  {
   "cell_type": "code",
   "execution_count": 2,
   "metadata": {},
   "outputs": [
    {
     "name": "stdout",
     "output_type": "stream",
     "text": [
      "a\n",
      "b\n",
      "c\n"
     ]
    }
   ],
   "source": [
    "test_dict = {'a': 0, 'b': 1, 'c': 2}\n",
    "for i in test_dict:\n",
    "    print(i)"
   ]
  },
  {
   "cell_type": "code",
   "execution_count": null,
   "metadata": {},
   "outputs": [],
   "source": []
  },
  {
   "cell_type": "code",
   "execution_count": 6,
   "metadata": {},
   "outputs": [
    {
     "data": {
      "text/plain": [
       "'c'"
      ]
     },
     "execution_count": 6,
     "metadata": {},
     "output_type": "execute_result"
    }
   ],
   "source": [
    "max_letter = max(test_dict, key=test_dict.get)\n",
    "max_letter"
   ]
  },
  {
   "cell_type": "code",
   "execution_count": 4,
   "metadata": {},
   "outputs": [
    {
     "name": "stdout",
     "output_type": "stream",
     "text": [
      "a=1\n"
     ]
    }
   ],
   "source": [
    "class test_class:\n",
    "    def __init__(self, name):\n",
    "        self.name = name\n",
    "\n",
    "    def __str__(self):\n",
    "        return self.name\n",
    "    \n",
    "class test_subclass(test_class):\n",
    "    def __init__(self, name, **kargs):\n",
    "        super().__init__(name)\n",
    "        self.name = name + \"!\"\n",
    "        self.kargs = kargs\n",
    "        self.age = kargs['age']\n",
    "\n",
    "    def __str__(self):\n",
    "        return self.name"
   ]
  },
  {
   "cell_type": "code",
   "execution_count": 15,
   "metadata": {},
   "outputs": [
    {
     "data": {
      "text/plain": [
       "torch.Size([4])"
      ]
     },
     "execution_count": 15,
     "metadata": {},
     "output_type": "execute_result"
    }
   ],
   "source": [
    "import torch\n",
    "test_tensor = torch.tensor([[1, 2, 3, 4]])\n",
    "test_tensor.shape[1:]"
   ]
  },
  {
   "cell_type": "code",
   "execution_count": 16,
   "metadata": {},
   "outputs": [
    {
     "data": {
      "text/plain": [
       "tensor([[1, 2, 3, 4, 1, 2, 3, 4],\n",
       "        [1, 2, 3, 4, 1, 2, 3, 4],\n",
       "        [1, 2, 3, 4, 1, 2, 3, 4]])"
      ]
     },
     "execution_count": 16,
     "metadata": {},
     "output_type": "execute_result"
    }
   ],
   "source": [
    "test_tensor.repeat(3, 2)"
   ]
  },
  {
   "cell_type": "code",
   "execution_count": null,
   "metadata": {},
   "outputs": [],
   "source": [
    "data_path = \"./neuralop/datasets/data/ns_random_forces_toy1.h5\"\n",
    "data_f = h5py.File(data_path, 'r')\n",
    "\n",
    "print(\"Objects in the HDF5 file:\")\n",
    "\n",
    "for data_name in data_f:\n",
    "        data = data_f[data_name]\n",
    "        print(data_name, data.shape)"
   ]
  },
  {
   "cell_type": "code",
   "execution_count": null,
   "metadata": {},
   "outputs": [],
   "source": [
    "import torch\n",
    "import matplotlib.pyplot as plt\n",
    "import sys\n",
    "from neuralop.models import TFNO\n",
    "from neuralop import Trainer\n",
    "from neuralop.training import OutputEncoderCallback\n",
    "from neuralop.datasets import load_darcy_flow_small\n",
    "from neuralop.utils import count_params\n",
    "from neuralop import LpLoss, H1Loss\n",
    "\n",
    "device = 'cpu'\n",
    "\n",
    "from neuralop.datasets import load_ns_contextual_h5\n",
    "\n",
    "data_path = \"./neuralop/datasets/data/ns_random_forces_toy.h5\"\n",
    "ssr = 4\n",
    "k = 8\n",
    "batch_size = 256\n",
    "\n",
    "# train_loader, test_loaders, output_encoder = \\\n",
    "#     load_ns_contextual_h5(data_path, batch_size=batch_size, test_batch_sizes=[batch_size],\n",
    "#                           train_resolution=64, test_resolutions=[64])\n",
    "\n",
    "# First load the dataset\n"
   ]
  }
 ],
 "metadata": {
  "kernelspec": {
   "display_name": "test",
   "language": "python",
   "name": "python3"
  },
  "language_info": {
   "codemirror_mode": {
    "name": "ipython",
    "version": 3
   },
   "file_extension": ".py",
   "mimetype": "text/x-python",
   "name": "python",
   "nbconvert_exporter": "python",
   "pygments_lexer": "ipython3",
   "version": "3.10.0"
  }
 },
 "nbformat": 4,
 "nbformat_minor": 2
}
