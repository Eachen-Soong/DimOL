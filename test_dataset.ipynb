{
 "cells": [
  {
   "cell_type": "code",
   "execution_count": 1,
   "metadata": {},
   "outputs": [],
   "source": [
    "import torch\n",
    "import matplotlib.pyplot as plt\n",
    "import sys\n",
    "from neuralop import Trainer\n",
    "from torch.utils.data import Dataset, DataLoader\n",
    "\n",
    "from neuralop.datasets.autoregressive_dataset import AutoregressiveDataset\n",
    "from torch.utils.data import DataLoader\n",
    "import h5py\n",
    "import numpy as np"
   ]
  },
  {
   "cell_type": "code",
   "execution_count": 14,
   "metadata": {},
   "outputs": [
    {
     "name": "stdout",
     "output_type": "stream",
     "text": [
      "f (100, 256, 256)\n",
      "mu (100,)\n",
      "u (100, 256, 256, 201)\n"
     ]
    }
   ],
   "source": [
    "from torch.utils.data import DataLoader\n",
    "data_path = \"../../data/ns_contextual/ns_random_forces_top100_mu.h5\"\n",
    "data = h5py.File(data_path, 'r')\n",
    "# print(type(data['f']),type(data))\n",
    "\n",
    "for name in data:\n",
    "    print(name, data[name].shape)\n"
   ]
  },
  {
   "cell_type": "code",
   "execution_count": 17,
   "metadata": {},
   "outputs": [],
   "source": [
    "def get_subset(N, input_path, output_path):\n",
    "    with h5py.File(input_path, 'r') as original_file, h5py.File(output_path, 'w') as new_file:\n",
    "        for key in original_file.keys():\n",
    "            subset_data = original_file[key][:N, ...]\n",
    "            new_file.create_dataset(key, data=subset_data)"
   ]
  },
  {
   "cell_type": "code",
   "execution_count": 18,
   "metadata": {},
   "outputs": [],
   "source": [
    "get_subset(50,data_path,\"../../data/ns_contextual/ns_random_forces_test.h5\")"
   ]
  },
  {
   "cell_type": "code",
   "execution_count": 9,
   "metadata": {},
   "outputs": [
    {
     "ename": "FileNotFoundError",
     "evalue": "[Errno 2] Unable to synchronously open file (unable to open file: name = './neuralop/datasets/data/ns_random_forces_.h5', errno = 2, error message = 'No such file or directory', flags = 0, o_flags = 0)",
     "output_type": "error",
     "traceback": [
      "\u001b[0;31m---------------------------------------------------------------------------\u001b[0m",
      "\u001b[0;31mFileNotFoundError\u001b[0m                         Traceback (most recent call last)",
      "Cell \u001b[0;32mIn[9], line 7\u001b[0m\n\u001b[1;32m      4\u001b[0m \u001b[38;5;28;01mimport\u001b[39;00m \u001b[38;5;21;01mnumpy\u001b[39;00m \u001b[38;5;28;01mas\u001b[39;00m \u001b[38;5;21;01mnp\u001b[39;00m\n\u001b[1;32m      6\u001b[0m data_path \u001b[38;5;241m=\u001b[39m \u001b[38;5;124m\"\u001b[39m\u001b[38;5;124m./neuralop/datasets/data/ns_random_forces_.h5\u001b[39m\u001b[38;5;124m\"\u001b[39m\n\u001b[0;32m----> 7\u001b[0m data_f \u001b[38;5;241m=\u001b[39m \u001b[43mh5py\u001b[49m\u001b[38;5;241;43m.\u001b[39;49m\u001b[43mFile\u001b[49m\u001b[43m(\u001b[49m\u001b[43mdata_path\u001b[49m\u001b[43m,\u001b[49m\u001b[43m \u001b[49m\u001b[38;5;124;43m'\u001b[39;49m\u001b[38;5;124;43mr\u001b[39;49m\u001b[38;5;124;43m'\u001b[39;49m\u001b[43m)\u001b[49m\n\u001b[1;32m      9\u001b[0m \u001b[38;5;28mprint\u001b[39m(\u001b[38;5;124m\"\u001b[39m\u001b[38;5;124mObjects in the HDF5 file:\u001b[39m\u001b[38;5;124m\"\u001b[39m)\n\u001b[1;32m     10\u001b[0m \u001b[38;5;28;01mfor\u001b[39;00m name \u001b[38;5;129;01min\u001b[39;00m data_f:\n",
      "File \u001b[0;32m~/anaconda3/envs/test/lib/python3.10/site-packages/h5py/_hl/files.py:562\u001b[0m, in \u001b[0;36mFile.__init__\u001b[0;34m(self, name, mode, driver, libver, userblock_size, swmr, rdcc_nslots, rdcc_nbytes, rdcc_w0, track_order, fs_strategy, fs_persist, fs_threshold, fs_page_size, page_buf_size, min_meta_keep, min_raw_keep, locking, alignment_threshold, alignment_interval, meta_block_size, **kwds)\u001b[0m\n\u001b[1;32m    553\u001b[0m     fapl \u001b[38;5;241m=\u001b[39m make_fapl(driver, libver, rdcc_nslots, rdcc_nbytes, rdcc_w0,\n\u001b[1;32m    554\u001b[0m                      locking, page_buf_size, min_meta_keep, min_raw_keep,\n\u001b[1;32m    555\u001b[0m                      alignment_threshold\u001b[38;5;241m=\u001b[39malignment_threshold,\n\u001b[1;32m    556\u001b[0m                      alignment_interval\u001b[38;5;241m=\u001b[39malignment_interval,\n\u001b[1;32m    557\u001b[0m                      meta_block_size\u001b[38;5;241m=\u001b[39mmeta_block_size,\n\u001b[1;32m    558\u001b[0m                      \u001b[38;5;241m*\u001b[39m\u001b[38;5;241m*\u001b[39mkwds)\n\u001b[1;32m    559\u001b[0m     fcpl \u001b[38;5;241m=\u001b[39m make_fcpl(track_order\u001b[38;5;241m=\u001b[39mtrack_order, fs_strategy\u001b[38;5;241m=\u001b[39mfs_strategy,\n\u001b[1;32m    560\u001b[0m                      fs_persist\u001b[38;5;241m=\u001b[39mfs_persist, fs_threshold\u001b[38;5;241m=\u001b[39mfs_threshold,\n\u001b[1;32m    561\u001b[0m                      fs_page_size\u001b[38;5;241m=\u001b[39mfs_page_size)\n\u001b[0;32m--> 562\u001b[0m     fid \u001b[38;5;241m=\u001b[39m \u001b[43mmake_fid\u001b[49m\u001b[43m(\u001b[49m\u001b[43mname\u001b[49m\u001b[43m,\u001b[49m\u001b[43m \u001b[49m\u001b[43mmode\u001b[49m\u001b[43m,\u001b[49m\u001b[43m \u001b[49m\u001b[43muserblock_size\u001b[49m\u001b[43m,\u001b[49m\u001b[43m \u001b[49m\u001b[43mfapl\u001b[49m\u001b[43m,\u001b[49m\u001b[43m \u001b[49m\u001b[43mfcpl\u001b[49m\u001b[43m,\u001b[49m\u001b[43m \u001b[49m\u001b[43mswmr\u001b[49m\u001b[38;5;241;43m=\u001b[39;49m\u001b[43mswmr\u001b[49m\u001b[43m)\u001b[49m\n\u001b[1;32m    564\u001b[0m \u001b[38;5;28;01mif\u001b[39;00m \u001b[38;5;28misinstance\u001b[39m(libver, \u001b[38;5;28mtuple\u001b[39m):\n\u001b[1;32m    565\u001b[0m     \u001b[38;5;28mself\u001b[39m\u001b[38;5;241m.\u001b[39m_libver \u001b[38;5;241m=\u001b[39m libver\n",
      "File \u001b[0;32m~/anaconda3/envs/test/lib/python3.10/site-packages/h5py/_hl/files.py:235\u001b[0m, in \u001b[0;36mmake_fid\u001b[0;34m(name, mode, userblock_size, fapl, fcpl, swmr)\u001b[0m\n\u001b[1;32m    233\u001b[0m     \u001b[38;5;28;01mif\u001b[39;00m swmr \u001b[38;5;129;01mand\u001b[39;00m swmr_support:\n\u001b[1;32m    234\u001b[0m         flags \u001b[38;5;241m|\u001b[39m\u001b[38;5;241m=\u001b[39m h5f\u001b[38;5;241m.\u001b[39mACC_SWMR_READ\n\u001b[0;32m--> 235\u001b[0m     fid \u001b[38;5;241m=\u001b[39m \u001b[43mh5f\u001b[49m\u001b[38;5;241;43m.\u001b[39;49m\u001b[43mopen\u001b[49m\u001b[43m(\u001b[49m\u001b[43mname\u001b[49m\u001b[43m,\u001b[49m\u001b[43m \u001b[49m\u001b[43mflags\u001b[49m\u001b[43m,\u001b[49m\u001b[43m \u001b[49m\u001b[43mfapl\u001b[49m\u001b[38;5;241;43m=\u001b[39;49m\u001b[43mfapl\u001b[49m\u001b[43m)\u001b[49m\n\u001b[1;32m    236\u001b[0m \u001b[38;5;28;01melif\u001b[39;00m mode \u001b[38;5;241m==\u001b[39m \u001b[38;5;124m'\u001b[39m\u001b[38;5;124mr+\u001b[39m\u001b[38;5;124m'\u001b[39m:\n\u001b[1;32m    237\u001b[0m     fid \u001b[38;5;241m=\u001b[39m h5f\u001b[38;5;241m.\u001b[39mopen(name, h5f\u001b[38;5;241m.\u001b[39mACC_RDWR, fapl\u001b[38;5;241m=\u001b[39mfapl)\n",
      "File \u001b[0;32mh5py/_objects.pyx:54\u001b[0m, in \u001b[0;36mh5py._objects.with_phil.wrapper\u001b[0;34m()\u001b[0m\n",
      "File \u001b[0;32mh5py/_objects.pyx:55\u001b[0m, in \u001b[0;36mh5py._objects.with_phil.wrapper\u001b[0;34m()\u001b[0m\n",
      "File \u001b[0;32mh5py/h5f.pyx:102\u001b[0m, in \u001b[0;36mh5py.h5f.open\u001b[0;34m()\u001b[0m\n",
      "\u001b[0;31mFileNotFoundError\u001b[0m: [Errno 2] Unable to synchronously open file (unable to open file: name = './neuralop/datasets/data/ns_random_forces_.h5', errno = 2, error message = 'No such file or directory', flags = 0, o_flags = 0)"
     ]
    }
   ],
   "source": [
    "# First alter the old dataset to fit the neuraloperator scheme:\n",
    "# The old dataset is from F-FNO (Tran. etl)\n",
    "import h5py\n",
    "import numpy as np\n",
    "\n",
    "data_path = \"./neuralop/datasets/data/ns_random_forces_.h5\"\n",
    "data_f = h5py.File(data_path, 'r')\n",
    "\n",
    "print(\"Objects in the HDF5 file:\")\n",
    "for name in data_f:\n",
    "    print(name)\n",
    "    for dataset_name in data_f[name]:\n",
    "        dataset = data_f[name][dataset_name]\n",
    "        print(dataset_name, dataset.shape)"
   ]
  },
  {
   "cell_type": "code",
   "execution_count": 1,
   "metadata": {},
   "outputs": [
    {
     "ename": "",
     "evalue": "",
     "output_type": "error",
     "traceback": [
      "\u001b[1;31m在当前单元格或上一个单元格中执行代码时 Kernel 崩溃。请查看单元格中的代码，以确定故障的可能原因。有关详细信息，请单击 <a href='https://aka.ms/vscodeJupyterKernelCrash'>此处</a>。有关更多详细信息，请查看 Jupyter <a href='command:jupyter.viewOutput'>log</a>。"
     ]
    }
   ],
   "source": [
    "import h5py\n",
    "import numpy as np\n",
    "\n",
    "def merge_dataset(f_in, f_out):\n",
    "    # Copy 'train' datasets if not exist in output\n",
    "    for data_name in f_in['train']:\n",
    "        if data_name not in f_out:\n",
    "            f_out.create_dataset(data_name, data=f_in['train'][data_name])\n",
    "\n",
    "    for group_name in ['test', 'valid']:\n",
    "        for data_name in f_in[group_name]:\n",
    "            data = f_in[group_name][data_name][:]\n",
    "            if data_name in f_out:\n",
    "                # Concatenate and replace existing dataset\n",
    "                existing_data = f_out[data_name][:]\n",
    "                concatenated_data = np.concatenate((existing_data, data), axis=0)\n",
    "                del f_out[data_name]  # Delete the old dataset\n",
    "                f_out.create_dataset(data_name, data=concatenated_data)  # Create new with concatenated data\n",
    "            else:\n",
    "                # Create new dataset if not exist\n",
    "                f_out.create_dataset(data_name, data=data)\n",
    "\n",
    "input_file = \"./neuralop/datasets/data/ns_random_forces_mini.h5\"\n",
    "output_file = \"./neuralop/datasets/data/ns_random_forces_1.h5\"\n",
    "with h5py.File(input_file, 'r') as f_in:\n",
    "    with h5py.File(output_file, 'a') as f_out:  # Open in append mode\n",
    "        merge_dataset(f_in, f_out)\n",
    "\n",
    "        # Read the data into memory\n",
    "        a_data = f_out['a'][:]\n",
    "        u_data = f_out['u'][:]\n",
    "\n",
    "        # Process the data\n",
    "        expanded_a_data = np.expand_dims(a_data, axis=-1)\n",
    "        concatenated_data = np.concatenate((expanded_a_data, u_data), axis=-1)\n",
    "\n",
    "        # Replace the 'u' dataset\n",
    "        del f_out['u']  # Delete the existing 'u' dataset\n",
    "        f_out.create_dataset('u', data=concatenated_data)\n",
    "\n",
    "        # Optionally, delete the 'a' dataset if no longer needed\n",
    "        del f_out['a']"
   ]
  },
  {
   "cell_type": "code",
   "execution_count": 4,
   "metadata": {},
   "outputs": [
    {
     "name": "stdout",
     "output_type": "stream",
     "text": [
      "a=1\n"
     ]
    }
   ],
   "source": [
    "class test_class:\n",
    "    def __init__(self, name):\n",
    "        self.name = name\n",
    "\n",
    "    def __str__(self):\n",
    "        return self.name\n",
    "    \n",
    "class test_subclass(test_class):\n",
    "    def __init__(self, name, **kargs):\n",
    "        super().__init__(name)\n",
    "        self.name = name + \"!\"\n",
    "        self.kargs = kargs\n",
    "        self.age = kargs['age']\n",
    "\n",
    "    def __str__(self):\n",
    "        return self.name"
   ]
  },
  {
   "cell_type": "code",
   "execution_count": 1,
   "metadata": {},
   "outputs": [],
   "source": [
    "import h5py\n",
    "\n",
    "def copy_h5_contents(old_filename, new_filename, include_groups=None):\n",
    "    \"\"\"\n",
    "    Copy specific groups and datasets from an old HDF5 file to a new one.\n",
    "\n",
    "    :param old_filename: Path to the source HDF5 file.\n",
    "    :param new_filename: Path to the destination HDF5 file.\n",
    "    :param include_groups: List of groups to include in the copy. If None, all groups will be copied.\n",
    "    \"\"\"\n",
    "    with h5py.File(old_filename, 'r') as old_file, h5py.File(new_filename, 'w') as new_file:\n",
    "        # If no specific groups are specified, copy everything\n",
    "        if include_groups is None:\n",
    "            include_groups = list(old_file.keys())\n",
    "\n",
    "        # Copy only the specified groups\n",
    "        for group in include_groups:\n",
    "            if group in old_file:\n",
    "                old_file.copy(group, new_file)\n",
    "\n",
    "input_file = \"./neuralop/datasets/data/ns_random_forces_1.h5\"\n",
    "output_file = \"./neuralop/datasets/data/ns_random_forces_2.h5\"\n",
    "copy_h5_contents(input_file, output_file)"
   ]
  },
  {
   "cell_type": "code",
   "execution_count": 3,
   "metadata": {},
   "outputs": [],
   "source": [
    "input_file = \"./neuralop/datasets/data/ns_random_forces_2.h5\"\n",
    "output_file = \"./neuralop/datasets/data/ns_random_forces_1.h5\"\n",
    "copy_h5_contents(input_file, output_file, include_groups=['u', 'f', 'mu'])"
   ]
  },
  {
   "cell_type": "code",
   "execution_count": 4,
   "metadata": {},
   "outputs": [
    {
     "name": "stdout",
     "output_type": "stream",
     "text": [
      "Objects in the HDF5 file:\n",
      "f (200, 256, 256)\n",
      "mu (200,)\n",
      "u (200, 256, 256, 201)\n"
     ]
    }
   ],
   "source": [
    "data_path = \"./neuralop/datasets/data/ns_random_forces_1.h5\"\n",
    "data_f = h5py.File(data_path, 'r')\n",
    "\n",
    "print(\"Objects in the HDF5 file:\")\n",
    "\n",
    "for data_name in data_f:\n",
    "        data = data_f[data_name]\n",
    "        print(data_name, data.shape)"
   ]
  },
  {
   "cell_type": "code",
   "execution_count": null,
   "metadata": {},
   "outputs": [],
   "source": [
    "import torch\n",
    "import matplotlib.pyplot as plt\n",
    "import sys\n",
    "from neuralop.models import TFNO\n",
    "from neuralop import Trainer\n",
    "from neuralop.training import OutputEncoderCallback\n",
    "from neuralop.datasets import load_darcy_flow_small\n",
    "from neuralop.utils import count_params\n",
    "from neuralop import LpLoss, H1Loss\n",
    "\n",
    "device = 'cpu'\n",
    "\n",
    "from neuralop.datasets import load_ns_contextual_h5\n",
    "\n",
    "data_path = \"./neuralop/datasets/data/ns_random_forces_toy.h5\"\n",
    "ssr = 4\n",
    "k = 8\n",
    "batch_size = 256\n",
    "\n",
    "# train_loader, test_loaders, output_encoder = \\\n",
    "#     load_ns_contextual_h5(data_path, batch_size=batch_size, test_batch_sizes=[batch_size],\n",
    "#                           train_resolution=64, test_resolutions=[64])\n",
    "\n",
    "# First load the dataset\n"
   ]
  }
 ],
 "metadata": {
  "kernelspec": {
   "display_name": "test",
   "language": "python",
   "name": "python3"
  },
  "language_info": {
   "codemirror_mode": {
    "name": "ipython",
    "version": 3
   },
   "file_extension": ".py",
   "mimetype": "text/x-python",
   "name": "python",
   "nbconvert_exporter": "python",
   "pygments_lexer": "ipython3",
   "version": "3.10.14"
  }
 },
 "nbformat": 4,
 "nbformat_minor": 2
}
