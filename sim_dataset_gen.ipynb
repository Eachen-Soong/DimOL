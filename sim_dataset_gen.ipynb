{
 "cells": [
  {
   "cell_type": "code",
   "execution_count": 1,
   "metadata": {},
   "outputs": [],
   "source": [
    "import h5py\n",
    "# import numpy as np\n",
    "import torch\n",
    "from einops import rearrange, repeat"
   ]
  },
  {
   "cell_type": "code",
   "execution_count": 2,
   "metadata": {},
   "outputs": [],
   "source": [
    "data_num = 100\n",
    "k=4\n",
    "input_file = f\"../data/ns_contextual/ns_random_forces_bottom{data_num}_mu.h5\"\n",
    "output_file = f\"../data/ns_contextual/ns_random_forces_bottom{data_num}_mu_k_{k}.h5\""
   ]
  },
  {
   "cell_type": "code",
   "execution_count": 3,
   "metadata": {},
   "outputs": [
    {
     "name": "stderr",
     "output_type": "stream",
     "text": [
      "/tmp/ipykernel_116659/619507543.py:3: UserWarning: Creating a tensor from a list of numpy.ndarrays is extremely slow. Please consider converting the list to a single numpy.ndarray with numpy.array() before converting to a tensor. (Triggered internally at ../torch/csrc/utils/tensor_new.cpp:245.)\n",
      "  u0 = torch.tensor(f_in['u'])\n",
      "/home/yichen/.local/lib/python3.10/site-packages/tqdm/auto.py:21: TqdmWarning: IProgress not found. Please update jupyter and ipywidgets. See https://ipywidgets.readthedocs.io/en/stable/user_install.html\n",
      "  from .autonotebook import tqdm as notebook_tqdm\n"
     ]
    }
   ],
   "source": [
    "# output_file = f\"../data/ns_contextual/ns_random_forces_few_shot_bottom{data_num})_mu.h5\"\n",
    "with h5py.File(input_file, 'r') as f_in:\n",
    "    u0 = torch.tensor(f_in['u'])\n",
    "    f0 = torch.tensor(f_in['f'])\n",
    "    mu0 = torch.tensor(f_in['mu'])\n",
    "    dtype = f_in['u'].dtype\n",
    "    f_in.close()\n",
    "\n",
    "B = u0.shape[0]\n",
    "L = u0.shape[-1]\n",
    "L1 = L // k\n",
    "u1_shape = [k] + list(u0.shape); u1_shape[-1] = L1\n",
    "# f1_shape = [k] + list(f0.shape)\n",
    "# mu1_shape = [k] + list(mu0.shape)\n",
    "u1 = torch.zeros(u1_shape)\n",
    "# f1 = np.zeros(f1_shape)\n",
    "# mu1 = np.zeros(mu1_shape)\n",
    "f1 = repeat(f0, 'a b c -> k a b c', k=k) * (k*k)\n",
    "mu1 = repeat(mu0, 'a -> k a', k=k) * k\n",
    "for i in range(k):\n",
    "    u1[i,...] = k * u0[..., i:k*L1+i:k]\n"
   ]
  },
  {
   "cell_type": "code",
   "execution_count": 4,
   "metadata": {},
   "outputs": [],
   "source": [
    "u1 = u1.view(-1,*u1_shape[2:])\n",
    "f1 = f1.view(-1,*f1.shape[2:])\n",
    "mu1 = mu1.view(-1)"
   ]
  },
  {
   "cell_type": "code",
   "execution_count": 5,
   "metadata": {},
   "outputs": [
    {
     "data": {
      "text/plain": [
       "torch.Size([400, 256, 256])"
      ]
     },
     "execution_count": 5,
     "metadata": {},
     "output_type": "execute_result"
    }
   ],
   "source": [
    "f1.shape"
   ]
  },
  {
   "cell_type": "code",
   "execution_count": 10,
   "metadata": {},
   "outputs": [
    {
     "data": {
      "text/plain": [
       "tensor(2585.6270)"
      ]
     },
     "execution_count": 10,
     "metadata": {},
     "output_type": "execute_result"
    }
   ],
   "source": [
    "torch.sum(torch.abs(u1[0, :, :, 0]-u1[100, :, :, 0]))"
   ]
  },
  {
   "cell_type": "code",
   "execution_count": 12,
   "metadata": {},
   "outputs": [
    {
     "data": {
      "text/plain": [
       "tensor(2585.6270)"
      ]
     },
     "execution_count": 12,
     "metadata": {},
     "output_type": "execute_result"
    }
   ],
   "source": [
    "torch.sum(torch.abs(u0[0, :, :, 0]-u0[0, :, :, 1]))*4"
   ]
  },
  {
   "cell_type": "code",
   "execution_count": 5,
   "metadata": {},
   "outputs": [],
   "source": [
    "with h5py.File(output_file, 'w') as f_out:\n",
    "    u1_out = f_out.create_dataset('u', data=u1, dtype=dtype)\n",
    "    f1_out = f_out.create_dataset('f', data=f1, dtype=dtype)\n",
    "    mu1_out = f_out.create_dataset('mu', data=mu1, dtype=dtype)\n",
    "    f_out.close()"
   ]
  },
  {
   "cell_type": "code",
   "execution_count": 13,
   "metadata": {},
   "outputs": [
    {
     "name": "stderr",
     "output_type": "stream",
     "text": [
      "/home/yichen/anaconda3/envs/test/lib/python3.10/site-packages/torchvision/io/image.py:13: UserWarning: Failed to load image Python extension: '/home/yichen/anaconda3/envs/test/lib/python3.10/site-packages/torchvision/image.so: undefined symbol: _ZN3c104cuda9SetDeviceEi'If you don't plan on using image functionality from `torchvision.io`, you can ignore this warning. Otherwise, there might be something wrong with your environment. Did you have `libjpeg` or `libpng` installed before building `torchvision` from source?\n",
      "  warn(\n"
     ]
    }
   ],
   "source": [
    "from neuralop.datasets.autoregressive_dataset import load_autoregressive_traintestsplit_v3\n",
    "\n",
    "train_loader, test_loaders = load_autoregressive_traintestsplit_v3(\n",
    "        '../data/ns_contextual/ns_random_forces_top100_mu.h5',\n",
    "        100, 1,\n",
    "        64, 64,\n",
    "        4, 4,\n",
    "        10,\n",
    "        predict_feature='u',\n",
    "    )"
   ]
  },
  {
   "cell_type": "code",
   "execution_count": 26,
   "metadata": {},
   "outputs": [
    {
     "data": {
      "text/plain": [
       "<neuralop.datasets.dataloader.ns_contextual_loader at 0x72aad1bfdfc0>"
      ]
     },
     "execution_count": 26,
     "metadata": {},
     "output_type": "execute_result"
    }
   ],
   "source": [
    "train_loader"
   ]
  },
  {
   "cell_type": "code",
   "execution_count": 27,
   "metadata": {},
   "outputs": [],
   "source": [
    "from scripts.ns_contextual_trainer import gen_similar_dataloaders_dt_divided_p\n",
    "dict_p_loaders = gen_similar_dataloaders_dt_divided_p(train_loader, scaling_ps=[4])\n",
    "ploader = dict_p_loaders['dt/=p_4']"
   ]
  },
  {
   "cell_type": "code",
   "execution_count": 41,
   "metadata": {},
   "outputs": [
    {
     "data": {
      "text/plain": [
       "{'y': tensor([[ 0.0493,  0.0713,  0.0872,  ..., -0.0151,  0.0092,  0.0286],\n",
       "         [ 0.0482,  0.0708,  0.0856,  ..., -0.0131,  0.0094,  0.0271],\n",
       "         [ 0.0679,  0.0873,  0.0999,  ...,  0.0103,  0.0324,  0.0493],\n",
       "         ...,\n",
       "         [ 0.0894,  0.1277,  0.1593,  ..., -0.0236,  0.0113,  0.0491],\n",
       "         [ 0.0848,  0.1144,  0.1377,  ..., -0.0072,  0.0234,  0.0538],\n",
       "         [ 0.0680,  0.0914,  0.1090,  ..., -0.0080,  0.0195,  0.0441]]),\n",
       " 'f': tensor([[0.2379, 0.2601, 0.2754,  ..., 0.1374, 0.1756, 0.2095],\n",
       "         [0.2567, 0.2755, 0.2874,  ..., 0.1647, 0.2005, 0.2315],\n",
       "         [0.2707, 0.2861, 0.2946,  ..., 0.1881, 0.2210, 0.2488],\n",
       "         ...,\n",
       "         [0.1570, 0.1876, 0.2123,  ..., 0.0387, 0.0813, 0.1211],\n",
       "         [0.1874, 0.2156, 0.2374,  ..., 0.0735, 0.1152, 0.1536],\n",
       "         [0.2146, 0.2399, 0.2586,  ..., 0.1067, 0.1470, 0.1833]]),\n",
       " 'mu': tensor(9.8323e-05),\n",
       " 'x': tensor([[-0.2266, -0.2142, -0.1996,  ..., -0.1818, -0.1834, -0.2138],\n",
       "         [-0.2078, -0.2092, -0.1964,  ..., -0.1888, -0.1928, -0.2114],\n",
       "         [-0.1909, -0.1952, -0.1796,  ..., -0.1783, -0.1642, -0.1812],\n",
       "         ...,\n",
       "         [-0.0986, -0.0945, -0.0843,  ..., -0.0665, -0.0764, -0.0912],\n",
       "         [-0.1367, -0.1415, -0.1349,  ..., -0.1043, -0.1153, -0.1282],\n",
       "         [-0.1951, -0.1963, -0.1863,  ..., -0.1508, -0.1551, -0.1744]])}"
      ]
     },
     "execution_count": 41,
     "metadata": {},
     "output_type": "execute_result"
    },
    {
     "ename": "",
     "evalue": "",
     "output_type": "error",
     "traceback": [
      "\u001b[1;31m在当前单元格或上一个单元格中执行代码时 Kernel 崩溃。\n",
      "\u001b[1;31m请查看单元格中的代码，以确定故障的可能原因。\n",
      "\u001b[1;31m单击<a href='https://aka.ms/vscodeJupyterKernelCrash'>此处</a>了解详细信息。\n",
      "\u001b[1;31m有关更多详细信息，请查看 Jupyter <a href='command:jupyter.viewOutput'>log</a>。"
     ]
    }
   ],
   "source": [
    "ploader.dataset.get_item(0)"
   ]
  },
  {
   "cell_type": "code",
   "execution_count": 32,
   "metadata": {},
   "outputs": [
    {
     "data": {
      "text/plain": [
       "tensor([[0.8234, 0.8481, 0.8755,  ..., 0.7241, 0.7616, 0.7953],\n",
       "        [0.8763, 0.8992, 0.9277,  ..., 0.7813, 0.8199, 0.8516],\n",
       "        [0.9236, 0.9470, 0.9772,  ..., 0.8348, 0.8723, 0.9008],\n",
       "        ...,\n",
       "        [0.6419, 0.6603, 0.6792,  ..., 0.5687, 0.5938, 0.6194],\n",
       "        [0.7033, 0.7258, 0.7492,  ..., 0.6184, 0.6480, 0.6775],\n",
       "        [0.7654, 0.7901, 0.8158,  ..., 0.6700, 0.7039, 0.7367]])"
      ]
     },
     "execution_count": 32,
     "metadata": {},
     "output_type": "execute_result"
    }
   ],
   "source": [
    "u1[0, :, :, 1]"
   ]
  },
  {
   "cell_type": "code",
   "execution_count": null,
   "metadata": {},
   "outputs": [],
   "source": []
  }
 ],
 "metadata": {
  "kernelspec": {
   "display_name": "test",
   "language": "python",
   "name": "python3"
  },
  "language_info": {
   "codemirror_mode": {
    "name": "ipython",
    "version": 3
   },
   "file_extension": ".py",
   "mimetype": "text/x-python",
   "name": "python",
   "nbconvert_exporter": "python",
   "pygments_lexer": "ipython3",
   "version": "3.10.14"
  }
 },
 "nbformat": 4,
 "nbformat_minor": 2
}
