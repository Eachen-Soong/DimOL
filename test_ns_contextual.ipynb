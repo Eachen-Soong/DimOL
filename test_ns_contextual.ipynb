{
 "cells": [
  {
   "cell_type": "markdown",
   "metadata": {},
   "source": [
    "TODO:\n",
    "1. Get rid of the previous structure relying on calllbacks to process the dataset (Done)\n",
    "2. \n",
    "3. load_autoregressive_traintestsplit: load multiple resolutions"
   ]
  },
  {
   "cell_type": "code",
   "execution_count": 1,
   "metadata": {},
   "outputs": [
    {
     "name": "stderr",
     "output_type": "stream",
     "text": [
      "/home/yichen/anaconda3/envs/test/lib/python3.10/site-packages/torchvision/io/image.py:13: UserWarning: Failed to load image Python extension: '/home/yichen/anaconda3/envs/test/lib/python3.10/site-packages/torchvision/image.so: undefined symbol: _ZN3c104cuda9SetDeviceEi'If you don't plan on using image functionality from `torchvision.io`, you can ignore this warning. Otherwise, there might be something wrong with your environment. Did you have `libjpeg` or `libpng` installed before building `torchvision` from source?\n",
      "  warn(\n"
     ]
    }
   ],
   "source": [
    "import torch\n",
    "import matplotlib.pyplot as plt\n",
    "import sys\n",
    "from neuralop.models import FNO\n",
    "\n",
    "from neuralop import Trainer\n",
    "from neuralop.training import OutputEncoderCallback\n",
    "from neuralop.utils import count_params\n",
    "from neuralop import LpLoss, H1Loss\n",
    "from neuralop.datasets import load_autoregressive_traintestsplit\n",
    "\n",
    "device = 'cuda'\n",
    "\n",
    "path = \"./data\"\n",
    "data_path = str(path) + \"/ns_random_forces_1.h5\"\n",
    "\n",
    "train_loader, test_loader = load_autoregressive_traintestsplit(\n",
    "    data_path,\n",
    "    n_train=160, n_test=40,\n",
    "    batch_size=32, test_batch_size=64, \n",
    "    train_subsample_rate=4, test_subsample_rate=4,\n",
    "    time_step=4,\n",
    "    predict_feature='u',\n",
    ")"
   ]
  },
  {
   "cell_type": "code",
   "execution_count": 2,
   "metadata": {},
   "outputs": [
    {
     "name": "stdout",
     "output_type": "stream",
     "text": [
      "{'y': tensor([[[-0.0809,  0.3994,  1.0436,  ..., -0.7246, -0.5214, -0.3199],\n",
      "         [-0.0868,  0.4157,  1.0410,  ..., -0.7461, -0.5589, -0.3561],\n",
      "         [-0.0878,  0.4277,  1.0312,  ..., -0.7631, -0.5892, -0.3836],\n",
      "         ...,\n",
      "         [-0.0324,  0.3423,  1.0158,  ..., -0.6374, -0.3737, -0.1750],\n",
      "         [-0.0527,  0.3617,  1.0304,  ..., -0.6708, -0.4275, -0.2265],\n",
      "         [-0.0693,  0.3810,  1.0398,  ..., -0.6995, -0.4773, -0.2759]],\n",
      "\n",
      "        [[ 0.0581,  0.3138,  0.4713,  ..., -0.2633, -0.2212, -0.1383],\n",
      "         [ 0.2377,  0.4296,  0.5656,  ..., -0.2657, -0.1813, -0.0111],\n",
      "         [ 0.3774,  0.5162,  0.7930,  ..., -0.2161, -0.0662,  0.1635],\n",
      "         ...,\n",
      "         [-0.1088, -0.1029,  0.0545,  ..., -0.0765, -0.0528, -0.0691],\n",
      "         [-0.1402, -0.0240,  0.2313,  ..., -0.1574, -0.1347, -0.1437],\n",
      "         [-0.0870,  0.1404,  0.3834,  ..., -0.2235, -0.1977, -0.1782]],\n",
      "\n",
      "        [[ 1.3722,  1.5166,  1.6609,  ...,  0.9503,  1.1638,  1.2867],\n",
      "         [ 1.4924,  1.6630,  1.8163,  ...,  1.0685,  1.2702,  1.3770],\n",
      "         [ 1.6141,  1.8019,  1.9634,  ...,  1.1746,  1.3641,  1.4689],\n",
      "         ...,\n",
      "         [ 1.0859,  1.1358,  1.2005,  ...,  0.6007,  0.7667,  0.9589],\n",
      "         [ 1.1745,  1.2385,  1.3452,  ...,  0.7085,  0.9052,  1.0872],\n",
      "         [ 1.2652,  1.3706,  1.5022,  ...,  0.8269,  1.0415,  1.1937]],\n",
      "\n",
      "        ...,\n",
      "\n",
      "        [[ 0.7282,  0.5125,  0.3687,  ...,  1.2558,  1.1555,  0.9633],\n",
      "         [ 0.7447,  0.4858,  0.3151,  ...,  1.4616,  1.2988,  1.0396],\n",
      "         [ 0.7722,  0.4693,  0.2716,  ...,  1.6754,  1.4504,  1.1274],\n",
      "         ...,\n",
      "         [ 0.8035,  0.7021,  0.6287,  ...,  1.0314,  0.9773,  0.9016],\n",
      "         [ 0.7512,  0.6177,  0.5246,  ...,  1.0343,  0.9787,  0.8823],\n",
      "         [ 0.7278,  0.5548,  0.4374,  ...,  1.1015,  1.0394,  0.9060]],\n",
      "\n",
      "        [[ 1.5634,  1.7230,  1.9091,  ...,  0.8757,  1.1399,  1.4028],\n",
      "         [ 1.5731,  1.7209,  1.8993,  ...,  0.8102,  1.0533,  1.3350],\n",
      "         [ 1.5154,  1.7242,  1.8798,  ...,  0.7515,  0.9555,  1.2355],\n",
      "         ...,\n",
      "         [ 1.4995,  1.6692,  1.8566,  ...,  1.0390,  1.2553,  1.3447],\n",
      "         [ 1.5257,  1.7002,  1.8874,  ...,  0.9988,  1.2463,  1.3861],\n",
      "         [ 1.5426,  1.7177,  1.9053,  ...,  0.9424,  1.2052,  1.4187]],\n",
      "\n",
      "        [[ 0.5536,  0.5289,  0.5004,  ...,  0.6075,  0.5926,  0.5748],\n",
      "         [ 0.3967,  0.3638,  0.3281,  ...,  0.4750,  0.4528,  0.4265],\n",
      "         [ 0.2748,  0.2292,  0.1827,  ...,  0.3971,  0.3602,  0.3189],\n",
      "         ...,\n",
      "         [ 0.8116,  0.9002,  0.9679,  ...,  0.4566,  0.5860,  0.7056],\n",
      "         [ 1.0838,  1.0561,  1.0170,  ...,  1.0724,  1.0945,  1.0975],\n",
      "         [ 0.7701,  0.7387,  0.7053,  ...,  0.8625,  0.8312,  0.8006]]]), 'f': tensor([[[ 0.2090,  0.2398,  0.2677,  ...,  0.1068,  0.1416,  0.1759],\n",
      "         [ 0.2406,  0.2691,  0.2943,  ...,  0.1419,  0.1762,  0.2093],\n",
      "         [ 0.2669,  0.2927,  0.3148,  ...,  0.1734,  0.2065,  0.2380],\n",
      "         ...,\n",
      "         [ 0.0919,  0.1262,  0.1594,  ..., -0.0092,  0.0233,  0.0573],\n",
      "         [ 0.1335,  0.1673,  0.1993,  ...,  0.0301,  0.0640,  0.0988],\n",
      "         [ 0.1729,  0.2055,  0.2357,  ...,  0.0692,  0.1039,  0.1387]],\n",
      "\n",
      "        [[ 0.3217,  0.3570,  0.3887,  ...,  0.2036,  0.2441,  0.2838],\n",
      "         [ 0.3718,  0.4043,  0.4326,  ...,  0.2572,  0.2973,  0.3358],\n",
      "         [ 0.4156,  0.4448,  0.4691,  ...,  0.3069,  0.3459,  0.3824],\n",
      "         ...,\n",
      "         [ 0.1501,  0.1889,  0.2265,  ...,  0.0359,  0.0728,  0.1111],\n",
      "         [ 0.2092,  0.2477,  0.2841,  ...,  0.0914,  0.1302,  0.1698],\n",
      "         [ 0.2670,  0.3043,  0.3387,  ...,  0.1478,  0.1878,  0.2279]],\n",
      "\n",
      "        [[ 0.2541,  0.2738,  0.2890,  ...,  0.1756,  0.2042,  0.2307],\n",
      "         [ 0.2937,  0.3106,  0.3224,  ...,  0.2196,  0.2474,  0.2724],\n",
      "         [ 0.3291,  0.3426,  0.3506,  ...,  0.2614,  0.2878,  0.3106],\n",
      "         ...,\n",
      "         [ 0.1245,  0.1486,  0.1703,  ...,  0.0457,  0.0722,  0.0988],\n",
      "         [ 0.1680,  0.1914,  0.2116,  ...,  0.0871,  0.1150,  0.1423],\n",
      "         [ 0.2118,  0.2336,  0.2516,  ...,  0.1309,  0.1595,  0.1868]],\n",
      "\n",
      "        ...,\n",
      "\n",
      "        [[ 0.3698,  0.4007,  0.4227,  ...,  0.2349,  0.2856,  0.3311],\n",
      "         [ 0.4094,  0.4355,  0.4526,  ...,  0.2856,  0.3332,  0.3749],\n",
      "         [ 0.4413,  0.4625,  0.4745,  ...,  0.3302,  0.3741,  0.4115],\n",
      "         ...,\n",
      "         [ 0.2179,  0.2599,  0.2946,  ...,  0.0630,  0.1179,  0.1701],\n",
      "         [ 0.2726,  0.3115,  0.3425,  ...,  0.1219,  0.1763,  0.2271],\n",
      "         [ 0.3238,  0.3589,  0.3856,  ...,  0.1798,  0.2328,  0.2813]],\n",
      "\n",
      "        [[ 0.2789,  0.3185,  0.3550,  ...,  0.1529,  0.1949,  0.2373],\n",
      "         [ 0.3031,  0.3412,  0.3757,  ...,  0.1796,  0.2212,  0.2628],\n",
      "         [ 0.3233,  0.3594,  0.3918,  ...,  0.2033,  0.2441,  0.2845],\n",
      "         ...,\n",
      "         [ 0.1897,  0.2318,  0.2719,  ...,  0.0637,  0.1045,  0.1469],\n",
      "         [ 0.2213,  0.2629,  0.3022,  ...,  0.0941,  0.1357,  0.1785],\n",
      "         [ 0.2513,  0.2921,  0.3302,  ...,  0.1241,  0.1661,  0.2089]],\n",
      "\n",
      "        [[ 0.1987,  0.2328,  0.2618,  ...,  0.0790,  0.1204,  0.1608],\n",
      "         [ 0.2275,  0.2597,  0.2862,  ...,  0.1092,  0.1508,  0.1908],\n",
      "         [ 0.2507,  0.2804,  0.3039,  ...,  0.1359,  0.1771,  0.2158],\n",
      "         ...,\n",
      "         [ 0.0894,  0.1248,  0.1573,  ..., -0.0213,  0.0150,  0.0523],\n",
      "         [ 0.1284,  0.1641,  0.1962,  ...,  0.0126,  0.0512,  0.0903],\n",
      "         [ 0.1652,  0.2005,  0.2314,  ...,  0.0464,  0.0868,  0.1269]]]), 'mu': tensor([5.4011e-05, 6.6967e-05, 2.8394e-05, 4.7291e-05, 2.5671e-05, 5.0122e-05,\n",
      "        8.3402e-05, 7.8698e-05, 9.7998e-05, 8.5046e-05, 2.3799e-05, 4.3355e-05,\n",
      "        6.9596e-05, 3.2667e-05, 7.0642e-05, 1.4132e-05, 3.4015e-05, 1.2366e-05,\n",
      "        2.9244e-05, 9.3081e-05, 1.3730e-05, 6.9971e-05, 2.3799e-05, 2.8394e-05,\n",
      "        3.8168e-05, 2.6135e-05, 5.2713e-05, 9.7146e-05, 3.1113e-05, 3.1107e-05,\n",
      "        1.1806e-05, 5.4802e-05]), 'x': tensor([[[ 0.1534,  0.6675,  1.0564,  ..., -0.7686, -0.5976, -0.3004],\n",
      "         [ 0.1104,  0.6061,  0.9991,  ..., -0.7765, -0.6091, -0.3230],\n",
      "         [ 0.0544,  0.5321,  0.9316,  ..., -0.7924, -0.6251, -0.3547],\n",
      "         ...,\n",
      "         [ 0.1863,  0.7658,  1.1775,  ..., -0.7519, -0.5759, -0.2917],\n",
      "         [ 0.1919,  0.7479,  1.1445,  ..., -0.7605, -0.5834, -0.2864],\n",
      "         [ 0.1810,  0.7150,  1.1044,  ..., -0.7648, -0.5896, -0.2884]],\n",
      "\n",
      "        [[ 0.2313,  0.3188,  0.4249,  ..., -0.1239, -0.0074,  0.1213],\n",
      "         [ 0.2842,  0.3855,  0.5628,  ..., -0.0345,  0.0790,  0.1890],\n",
      "         [ 0.3482,  0.4933,  0.8086,  ...,  0.0437,  0.1484,  0.2474],\n",
      "         ...,\n",
      "         [-0.0303,  0.1452,  0.2783,  ..., -0.3453, -0.2844, -0.1829],\n",
      "         [ 0.0827,  0.2241,  0.3113,  ..., -0.2935, -0.2085, -0.0777],\n",
      "         [ 0.1705,  0.2729,  0.3506,  ..., -0.2151, -0.1086,  0.0314]],\n",
      "\n",
      "        [[ 1.3449,  1.4106,  1.5013,  ...,  0.8210,  0.9972,  1.1986],\n",
      "         [ 1.4386,  1.5112,  1.6421,  ...,  0.9201,  1.1109,  1.3102],\n",
      "         [ 1.5279,  1.6198,  1.7795,  ...,  1.0146,  1.2144,  1.4086],\n",
      "         ...,\n",
      "         [ 0.9813,  1.1274,  1.1873,  ...,  0.5157,  0.6562,  0.8040],\n",
      "         [ 1.1201,  1.2313,  1.2689,  ...,  0.6186,  0.7641,  0.9378],\n",
      "         [ 1.2409,  1.3204,  1.3721,  ...,  0.7203,  0.8791,  1.0731]],\n",
      "\n",
      "        ...,\n",
      "\n",
      "        [[ 0.7143,  0.5781,  0.5007,  ...,  1.0815,  0.9963,  0.8669],\n",
      "         [ 0.7129,  0.5185,  0.4007,  ...,  1.2191,  1.1077,  0.9276],\n",
      "         [ 0.7496,  0.4880,  0.3209,  ...,  1.4380,  1.2816,  1.0372],\n",
      "         ...,\n",
      "         [ 0.8766,  0.8285,  0.7984,  ...,  1.0592,  0.9958,  0.9342],\n",
      "         [ 0.8165,  0.7519,  0.7155,  ...,  1.0315,  0.9658,  0.8927],\n",
      "         [ 0.7542,  0.6615,  0.6110,  ...,  1.0288,  0.9566,  0.8612]],\n",
      "\n",
      "        [[ 1.3873,  1.6664,  1.8471,  ...,  0.6823,  0.8217,  1.0764],\n",
      "         [ 1.3109,  1.6117,  1.8598,  ...,  0.6849,  0.7788,  1.0007],\n",
      "         [ 1.2091,  1.5303,  1.8133,  ...,  0.6802,  0.7519,  0.9293],\n",
      "         ...,\n",
      "         [ 1.4709,  1.5979,  1.7435,  ...,  0.7379,  0.9524,  1.2251],\n",
      "         [ 1.4672,  1.6454,  1.7817,  ...,  0.7118,  0.9136,  1.1947],\n",
      "         [ 1.4378,  1.6766,  1.8145,  ...,  0.6901,  0.8687,  1.1445]],\n",
      "\n",
      "        [[ 0.5936,  0.5613,  0.5242,  ...,  0.6749,  0.6482,  0.6220],\n",
      "         [ 0.4524,  0.4133,  0.3693,  ...,  0.5350,  0.5139,  0.4862],\n",
      "         [ 0.3424,  0.2916,  0.2368,  ...,  0.4568,  0.4266,  0.3879],\n",
      "         ...,\n",
      "         [ 0.7351,  0.8642,  0.9652,  ...,  0.2587,  0.4247,  0.5859],\n",
      "         [ 1.1474,  1.1190,  1.0670,  ...,  1.0282,  1.1060,  1.1450],\n",
      "         [ 0.8322,  0.7753,  0.7212,  ...,  1.0197,  0.9567,  0.8930]]])}\n"
     ]
    }
   ],
   "source": [
    "for item in train_loader:\n",
    "    print(item)\n",
    "    break"
   ]
  },
  {
   "cell_type": "code",
   "execution_count": 2,
   "metadata": {},
   "outputs": [],
   "source": [
    "from neuralop.datasets.ns_contextual_sim_adapter import gen_similar_dataloader\n",
    "import numpy as np\n",
    "\n",
    "array_of_pows = np.array([-16, -8, -4, 4, 8, 16])\n",
    "scale_coeffs = np.power(2., array_of_pows)\n",
    "\n",
    "sim_test_loader = gen_similar_dataloader(train_loader, scale_coeffs)"
   ]
  },
  {
   "cell_type": "code",
   "execution_count": 5,
   "metadata": {},
   "outputs": [
    {
     "name": "stdout",
     "output_type": "stream",
     "text": [
      "\n",
      "Our model has 567265 parameters.\n"
     ]
    }
   ],
   "source": [
    "# We create a tensorized FNO model\n",
    "input_prods = None\n",
    "n_modes=21\n",
    "model = FNO(in_channels=5, n_modes=(n_modes, n_modes), hidden_channels=32, \n",
    "             projection_channels=64, factorization='tucker', rank=0.1,\n",
    "             n_layers=16\n",
    "             )\n",
    "# width=20; num_prod=3sim_test_loader = gen_similar_dataloader(train_loader, scale_coeffs)\n",
    "# model = ProdFNO_2D(in_dim=1, appended_dim=4, out_dim=1,\n",
    "#                modes1=num_modes, modes2=num_modes, width=width, num_prod=num_prod, input_prods=input_prods)\n",
    "# model = ProdFNO(in_channels=5, n_modes=(n_modes, n_modes), hidden_channels=32, \n",
    "#              projection_channels=64, factorization='tucker', rank=0.42)\n",
    "\n",
    "model = model.to(device)\n",
    "\n",
    "n_params = count_params(model)\n",
    "print(f'\\nOur model has {n_params} parameters.')\n",
    "sys.stdout.flush()"
   ]
  },
  {
   "cell_type": "code",
   "execution_count": 6,
   "metadata": {},
   "outputs": [
    {
     "name": "stdout",
     "output_type": "stream",
     "text": [
      "\n",
      "### MODEL ###\n",
      " FNO(\n",
      "  (fno_blocks): FNOBlocks1(\n",
      "    (convs): SpectralConv(\n",
      "      (weight): ModuleList(\n",
      "        (0-31): 32 x ComplexTuckerTensor(shape=(32, 32, 10, 10), rank=(17, 17, 5, 5))\n",
      "      )\n",
      "    )\n",
      "    (fno_skips): ModuleList(\n",
      "      (0-15): 16 x Conv2d(32, 32, kernel_size=(1, 1), stride=(1, 1), bias=False)\n",
      "    )\n",
      "  )\n",
      "  (lifting): MLP(\n",
      "    (fcs): ModuleList(\n",
      "      (0): Conv2d(5, 256, kernel_size=(1, 1), stride=(1, 1))\n",
      "      (1): Conv2d(256, 32, kernel_size=(1, 1), stride=(1, 1))\n",
      "    )\n",
      "  )\n",
      "  (projection): MLP(\n",
      "    (fcs): ModuleList(\n",
      "      (0): Conv2d(32, 64, kernel_size=(1, 1), stride=(1, 1))\n",
      "      (1): Conv2d(64, 1, kernel_size=(1, 1), stride=(1, 1))\n",
      "    )\n",
      "  )\n",
      ")\n",
      "\n",
      "### OPTIMIZER ###\n",
      " Adam (\n",
      "Parameter Group 0\n",
      "    amsgrad: False\n",
      "    betas: (0.9, 0.999)\n",
      "    capturable: False\n",
      "    differentiable: False\n",
      "    eps: 1e-08\n",
      "    foreach: None\n",
      "    fused: None\n",
      "    initial_lr: 0.001\n",
      "    lr: 0.001\n",
      "    maximize: False\n",
      "    weight_decay: 0.0001\n",
      ")\n",
      "\n",
      "### SCHEDULER ###\n",
      " <torch.optim.lr_scheduler.StepLR object at 0x7f9f0fdf50f0>\n",
      "\n",
      "### LOSSES ###\n",
      "\n",
      " * Train: <neuralop.training.losses.H1Loss object at 0x7f9f0fdf6b00>\n",
      "\n",
      " * Test: {'h1': <neuralop.training.losses.H1Loss object at 0x7f9f0fdf6b00>, 'l2': <neuralop.training.losses.LpLoss object at 0x7f9f0fdf6ad0>}\n"
     ]
    }
   ],
   "source": [
    "#Create the optimizer\n",
    "optimizer = torch.optim.Adam(model.parameters(), \n",
    "                                lr=1e-3, \n",
    "                                weight_decay=1e-4)\n",
    "# scheduler = torch.optim.lr_scheduler.CosineAnnealingLR(optimizer, T_max=30)\n",
    "scheduler = torch.optim.lr_scheduler.StepLR(optimizer, step_size=100, gamma=0.5)\n",
    "\n",
    "# Creating the losses\n",
    "l2loss = LpLoss(d=2, p=2)\n",
    "h1loss = H1Loss(d=2)\n",
    "\n",
    "train_loss = h1loss\n",
    "eval_losses={'h1': h1loss, 'l2': l2loss}\n",
    "\n",
    "print('\\n### MODEL ###\\n', model)\n",
    "print('\\n### OPTIMIZER ###\\n', optimizer)\n",
    "print('\\n### SCHEDULER ###\\n', scheduler)\n",
    "print('\\n### LOSSES ###')\n",
    "print(f'\\n * Train: {train_loss}')\n",
    "print(f'\\n * Test: {eval_losses}')\n",
    "sys.stdout.flush()"
   ]
  },
  {
   "cell_type": "code",
   "execution_count": 7,
   "metadata": {},
   "outputs": [],
   "source": [
    "import time\n",
    "localtime = time.localtime(time.time())\n",
    "time_now = f\"{localtime.tm_mon}-{localtime.tm_mday}-{localtime.tm_hour}-{localtime.tm_min}\""
   ]
  },
  {
   "cell_type": "code",
   "execution_count": 9,
   "metadata": {},
   "outputs": [
    {
     "name": "stderr",
     "output_type": "stream",
     "text": [
      "2024-01-18 23:45:27.448280: I tensorflow/core/util/port.cc:113] oneDNN custom operations are on. You may see slightly different numerical results due to floating-point round-off errors from different computation orders. To turn them off, set the environment variable `TF_ENABLE_ONEDNN_OPTS=0`.\n",
      "2024-01-18 23:45:27.576546: E external/local_xla/xla/stream_executor/cuda/cuda_dnn.cc:9261] Unable to register cuDNN factory: Attempting to register factory for plugin cuDNN when one has already been registered\n",
      "2024-01-18 23:45:27.576590: E external/local_xla/xla/stream_executor/cuda/cuda_fft.cc:607] Unable to register cuFFT factory: Attempting to register factory for plugin cuFFT when one has already been registered\n",
      "2024-01-18 23:45:27.597013: E external/local_xla/xla/stream_executor/cuda/cuda_blas.cc:1515] Unable to register cuBLAS factory: Attempting to register factory for plugin cuBLAS when one has already been registered\n",
      "2024-01-18 23:45:27.639823: I tensorflow/core/platform/cpu_feature_guard.cc:182] This TensorFlow binary is optimized to use available CPU instructions in performance-critical operations.\n",
      "To enable the following instructions: AVX2 AVX_VNNI FMA, in other operations, rebuild TensorFlow with the appropriate compiler flags.\n",
      "2024-01-18 23:45:28.179803: W tensorflow/compiler/tf2tensorrt/utils/py_utils.cc:38] TF-TRT Warning: Could not find TensorRT\n"
     ]
    },
    {
     "name": "stdout",
     "output_type": "stream",
     "text": [
      "using standard method to load data to device.\n",
      "using standard method to compute loss.\n",
      "self.override_load_to_device=False\n",
      "self.overrides_loss=False\n"
     ]
    }
   ],
   "source": [
    "from neuralop.training import MultipleInputCallback, SimpleTensorBoardLoggerCallback\n",
    "trainer = Trainer(model=model, n_epochs=10,\n",
    "                  device=device,\n",
    "                  callbacks=[MultipleInputCallback(append_positional_encoding=True), SimpleTensorBoardLoggerCallback(log_dir='runs/exp_'+time_now,)],             \n",
    "                  wandb_log=False,\n",
    "                  log_test_interval=1,\n",
    "                  use_distributed=False,\n",
    "                  verbose=True)"
   ]
  },
  {
   "cell_type": "code",
   "execution_count": 10,
   "metadata": {},
   "outputs": [
    {
     "name": "stdout",
     "output_type": "stream",
     "text": [
      "Training on 31520 samples\n",
      "Testing on [7880, 31520] samples         on resolutions ['irrevalent', 'similar'].\n",
      "Raw outputs of size out.shape=torch.Size([32, 1, 64, 64])\n",
      "[0] time=28.94, avg_loss=3152.0057, train_err=32.0001, irrevalent_h1=1.0000, irrevalent_l2=1.0000, similar_h1=1.0000, similar_l2=1.0000\n"
     ]
    },
    {
     "ename": "KeyboardInterrupt",
     "evalue": "",
     "output_type": "error",
     "traceback": [
      "\u001b[0;31m---------------------------------------------------------------------------\u001b[0m",
      "\u001b[0;31mKeyboardInterrupt\u001b[0m                         Traceback (most recent call last)",
      "Cell \u001b[0;32mIn[10], line 1\u001b[0m\n\u001b[0;32m----> 1\u001b[0m \u001b[43mtrainer\u001b[49m\u001b[38;5;241;43m.\u001b[39;49m\u001b[43mtrain\u001b[49m\u001b[43m(\u001b[49m\u001b[43mtrain_loader\u001b[49m\u001b[38;5;241;43m=\u001b[39;49m\u001b[43mtrain_loader\u001b[49m\u001b[43m,\u001b[49m\n\u001b[1;32m      2\u001b[0m \u001b[43m              \u001b[49m\u001b[43mtest_loaders\u001b[49m\u001b[38;5;241;43m=\u001b[39;49m\u001b[43m{\u001b[49m\u001b[38;5;124;43m'\u001b[39;49m\u001b[38;5;124;43mirrevalent\u001b[39;49m\u001b[38;5;124;43m'\u001b[39;49m\u001b[43m:\u001b[49m\u001b[43m \u001b[49m\u001b[43mtest_loader\u001b[49m\u001b[43m,\u001b[49m\u001b[43m \u001b[49m\u001b[38;5;124;43m'\u001b[39;49m\u001b[38;5;124;43msimilar\u001b[39;49m\u001b[38;5;124;43m'\u001b[39;49m\u001b[43m:\u001b[49m\u001b[43m \u001b[49m\u001b[43msim_test_loader\u001b[49m\u001b[43m}\u001b[49m\u001b[43m,\u001b[49m\n\u001b[1;32m      3\u001b[0m \u001b[43m              \u001b[49m\u001b[43moptimizer\u001b[49m\u001b[38;5;241;43m=\u001b[39;49m\u001b[43moptimizer\u001b[49m\u001b[43m,\u001b[49m\u001b[43m \u001b[49m\n\u001b[1;32m      4\u001b[0m \u001b[43m              \u001b[49m\u001b[43mscheduler\u001b[49m\u001b[38;5;241;43m=\u001b[39;49m\u001b[43mscheduler\u001b[49m\u001b[43m,\u001b[49m\u001b[43m \u001b[49m\n\u001b[1;32m      5\u001b[0m \u001b[43m              \u001b[49m\u001b[43mregularizer\u001b[49m\u001b[38;5;241;43m=\u001b[39;49m\u001b[38;5;28;43;01mFalse\u001b[39;49;00m\u001b[43m,\u001b[49m\u001b[43m \u001b[49m\n\u001b[1;32m      6\u001b[0m \u001b[43m              \u001b[49m\u001b[43mtraining_loss\u001b[49m\u001b[38;5;241;43m=\u001b[39;49m\u001b[43mtrain_loss\u001b[49m\u001b[43m,\u001b[49m\u001b[43m \u001b[49m\n\u001b[1;32m      7\u001b[0m \u001b[43m              \u001b[49m\u001b[43meval_losses\u001b[49m\u001b[38;5;241;43m=\u001b[39;49m\u001b[43meval_losses\u001b[49m\u001b[43m)\u001b[49m\n",
      "File \u001b[0;32m~/repo/cfd/myNeuralOperator/neuralop/training/trainer.py:231\u001b[0m, in \u001b[0;36mTrainer.train\u001b[0;34m(self, train_loader, test_loaders, optimizer, scheduler, regularizer, training_loss, eval_losses)\u001b[0m\n\u001b[1;32m    227\u001b[0m     \u001b[38;5;28mself\u001b[39m\u001b[38;5;241m.\u001b[39mcallbacks\u001b[38;5;241m.\u001b[39mon_before_val(epoch\u001b[38;5;241m=\u001b[39mepoch, train_err\u001b[38;5;241m=\u001b[39mtrain_err, time\u001b[38;5;241m=\u001b[39mepoch_train_time, \\\n\u001b[1;32m    228\u001b[0m                            avg_loss\u001b[38;5;241m=\u001b[39mavg_loss, avg_lasso_loss\u001b[38;5;241m=\u001b[39mavg_lasso_loss)\n\u001b[1;32m    230\u001b[0m \u001b[38;5;28;01mfor\u001b[39;00m loader_name, loader \u001b[38;5;129;01min\u001b[39;00m test_loaders\u001b[38;5;241m.\u001b[39mitems():\n\u001b[0;32m--> 231\u001b[0m     _ \u001b[38;5;241m=\u001b[39m \u001b[38;5;28;43mself\u001b[39;49m\u001b[38;5;241;43m.\u001b[39;49m\u001b[43mevaluate\u001b[49m\u001b[43m(\u001b[49m\u001b[43meval_losses\u001b[49m\u001b[43m,\u001b[49m\u001b[43m \u001b[49m\u001b[43mloader\u001b[49m\u001b[43m,\u001b[49m\u001b[43m \u001b[49m\u001b[43mlog_prefix\u001b[49m\u001b[38;5;241;43m=\u001b[39;49m\u001b[43mloader_name\u001b[49m\u001b[43m)\u001b[49m\n\u001b[1;32m    233\u001b[0m \u001b[38;5;28;01mif\u001b[39;00m \u001b[38;5;28mself\u001b[39m\u001b[38;5;241m.\u001b[39mcallbacks:\n\u001b[1;32m    234\u001b[0m     \u001b[38;5;28mself\u001b[39m\u001b[38;5;241m.\u001b[39mcallbacks\u001b[38;5;241m.\u001b[39mon_val_end()\n",
      "File \u001b[0;32m~/repo/cfd/myNeuralOperator/neuralop/training/trainer.py:285\u001b[0m, in \u001b[0;36mTrainer.evaluate\u001b[0;34m(self, loss_dict, data_loader, log_prefix)\u001b[0m\n\u001b[1;32m    282\u001b[0m         \u001b[38;5;28;01mif\u001b[39;00m \u001b[38;5;28mhasattr\u001b[39m(v, \u001b[38;5;124m'\u001b[39m\u001b[38;5;124mto\u001b[39m\u001b[38;5;124m'\u001b[39m):\n\u001b[1;32m    283\u001b[0m             sample[k] \u001b[38;5;241m=\u001b[39m v\u001b[38;5;241m.\u001b[39mto(\u001b[38;5;28mself\u001b[39m\u001b[38;5;241m.\u001b[39mdevice)\n\u001b[0;32m--> 285\u001b[0m out \u001b[38;5;241m=\u001b[39m \u001b[38;5;28;43mself\u001b[39;49m\u001b[38;5;241;43m.\u001b[39;49m\u001b[43mmodel\u001b[49m\u001b[43m(\u001b[49m\u001b[38;5;241;43m*\u001b[39;49m\u001b[38;5;241;43m*\u001b[39;49m\u001b[43msample\u001b[49m\u001b[43m)\u001b[49m\n\u001b[1;32m    287\u001b[0m \u001b[38;5;28;01mif\u001b[39;00m \u001b[38;5;28mself\u001b[39m\u001b[38;5;241m.\u001b[39mcallbacks:\n\u001b[1;32m    288\u001b[0m     \u001b[38;5;28mself\u001b[39m\u001b[38;5;241m.\u001b[39mcallbacks\u001b[38;5;241m.\u001b[39mon_before_val_loss(out\u001b[38;5;241m=\u001b[39mout)\n",
      "File \u001b[0;32m~/anaconda3/envs/test/lib/python3.10/site-packages/torch/nn/modules/module.py:1501\u001b[0m, in \u001b[0;36mModule._call_impl\u001b[0;34m(self, *args, **kwargs)\u001b[0m\n\u001b[1;32m   1496\u001b[0m \u001b[38;5;66;03m# If we don't have any hooks, we want to skip the rest of the logic in\u001b[39;00m\n\u001b[1;32m   1497\u001b[0m \u001b[38;5;66;03m# this function, and just call forward.\u001b[39;00m\n\u001b[1;32m   1498\u001b[0m \u001b[38;5;28;01mif\u001b[39;00m \u001b[38;5;129;01mnot\u001b[39;00m (\u001b[38;5;28mself\u001b[39m\u001b[38;5;241m.\u001b[39m_backward_hooks \u001b[38;5;129;01mor\u001b[39;00m \u001b[38;5;28mself\u001b[39m\u001b[38;5;241m.\u001b[39m_backward_pre_hooks \u001b[38;5;129;01mor\u001b[39;00m \u001b[38;5;28mself\u001b[39m\u001b[38;5;241m.\u001b[39m_forward_hooks \u001b[38;5;129;01mor\u001b[39;00m \u001b[38;5;28mself\u001b[39m\u001b[38;5;241m.\u001b[39m_forward_pre_hooks\n\u001b[1;32m   1499\u001b[0m         \u001b[38;5;129;01mor\u001b[39;00m _global_backward_pre_hooks \u001b[38;5;129;01mor\u001b[39;00m _global_backward_hooks\n\u001b[1;32m   1500\u001b[0m         \u001b[38;5;129;01mor\u001b[39;00m _global_forward_hooks \u001b[38;5;129;01mor\u001b[39;00m _global_forward_pre_hooks):\n\u001b[0;32m-> 1501\u001b[0m     \u001b[38;5;28;01mreturn\u001b[39;00m \u001b[43mforward_call\u001b[49m\u001b[43m(\u001b[49m\u001b[38;5;241;43m*\u001b[39;49m\u001b[43margs\u001b[49m\u001b[43m,\u001b[49m\u001b[43m \u001b[49m\u001b[38;5;241;43m*\u001b[39;49m\u001b[38;5;241;43m*\u001b[39;49m\u001b[43mkwargs\u001b[49m\u001b[43m)\u001b[49m\n\u001b[1;32m   1502\u001b[0m \u001b[38;5;66;03m# Do not call functions when jit is used\u001b[39;00m\n\u001b[1;32m   1503\u001b[0m full_backward_hooks, non_full_backward_hooks \u001b[38;5;241m=\u001b[39m [], []\n",
      "File \u001b[0;32m~/repo/cfd/myNeuralOperator/neuralop/models/new_fno.py:258\u001b[0m, in \u001b[0;36mFNO.forward\u001b[0;34m(self, x, output_shape, **kwargs)\u001b[0m\n\u001b[1;32m    255\u001b[0m     x \u001b[38;5;241m=\u001b[39m \u001b[38;5;28mself\u001b[39m\u001b[38;5;241m.\u001b[39mdomain_padding\u001b[38;5;241m.\u001b[39mpad(x)\n\u001b[1;32m    257\u001b[0m \u001b[38;5;28;01mfor\u001b[39;00m layer_idx \u001b[38;5;129;01min\u001b[39;00m \u001b[38;5;28mrange\u001b[39m(\u001b[38;5;28mself\u001b[39m\u001b[38;5;241m.\u001b[39mn_layers):\n\u001b[0;32m--> 258\u001b[0m     x \u001b[38;5;241m=\u001b[39m \u001b[38;5;28;43mself\u001b[39;49m\u001b[38;5;241;43m.\u001b[39;49m\u001b[43mfno_blocks\u001b[49m\u001b[43m(\u001b[49m\u001b[43mx\u001b[49m\u001b[43m,\u001b[49m\u001b[43m \u001b[49m\u001b[43mlayer_idx\u001b[49m\u001b[43m,\u001b[49m\u001b[43m \u001b[49m\u001b[43moutput_shape\u001b[49m\u001b[38;5;241;43m=\u001b[39;49m\u001b[43moutput_shape\u001b[49m\u001b[43m[\u001b[49m\u001b[43mlayer_idx\u001b[49m\u001b[43m]\u001b[49m\u001b[43m)\u001b[49m\n\u001b[1;32m    260\u001b[0m \u001b[38;5;28;01mif\u001b[39;00m \u001b[38;5;28mself\u001b[39m\u001b[38;5;241m.\u001b[39mdomain_padding \u001b[38;5;129;01mis\u001b[39;00m \u001b[38;5;129;01mnot\u001b[39;00m \u001b[38;5;28;01mNone\u001b[39;00m:\n\u001b[1;32m    261\u001b[0m     x \u001b[38;5;241m=\u001b[39m \u001b[38;5;28mself\u001b[39m\u001b[38;5;241m.\u001b[39mdomain_padding\u001b[38;5;241m.\u001b[39munpad(x)\n",
      "File \u001b[0;32m~/anaconda3/envs/test/lib/python3.10/site-packages/torch/nn/modules/module.py:1501\u001b[0m, in \u001b[0;36mModule._call_impl\u001b[0;34m(self, *args, **kwargs)\u001b[0m\n\u001b[1;32m   1496\u001b[0m \u001b[38;5;66;03m# If we don't have any hooks, we want to skip the rest of the logic in\u001b[39;00m\n\u001b[1;32m   1497\u001b[0m \u001b[38;5;66;03m# this function, and just call forward.\u001b[39;00m\n\u001b[1;32m   1498\u001b[0m \u001b[38;5;28;01mif\u001b[39;00m \u001b[38;5;129;01mnot\u001b[39;00m (\u001b[38;5;28mself\u001b[39m\u001b[38;5;241m.\u001b[39m_backward_hooks \u001b[38;5;129;01mor\u001b[39;00m \u001b[38;5;28mself\u001b[39m\u001b[38;5;241m.\u001b[39m_backward_pre_hooks \u001b[38;5;129;01mor\u001b[39;00m \u001b[38;5;28mself\u001b[39m\u001b[38;5;241m.\u001b[39m_forward_hooks \u001b[38;5;129;01mor\u001b[39;00m \u001b[38;5;28mself\u001b[39m\u001b[38;5;241m.\u001b[39m_forward_pre_hooks\n\u001b[1;32m   1499\u001b[0m         \u001b[38;5;129;01mor\u001b[39;00m _global_backward_pre_hooks \u001b[38;5;129;01mor\u001b[39;00m _global_backward_hooks\n\u001b[1;32m   1500\u001b[0m         \u001b[38;5;129;01mor\u001b[39;00m _global_forward_hooks \u001b[38;5;129;01mor\u001b[39;00m _global_forward_pre_hooks):\n\u001b[0;32m-> 1501\u001b[0m     \u001b[38;5;28;01mreturn\u001b[39;00m \u001b[43mforward_call\u001b[49m\u001b[43m(\u001b[49m\u001b[38;5;241;43m*\u001b[39;49m\u001b[43margs\u001b[49m\u001b[43m,\u001b[49m\u001b[43m \u001b[49m\u001b[38;5;241;43m*\u001b[39;49m\u001b[38;5;241;43m*\u001b[39;49m\u001b[43mkwargs\u001b[49m\u001b[43m)\u001b[49m\n\u001b[1;32m   1502\u001b[0m \u001b[38;5;66;03m# Do not call functions when jit is used\u001b[39;00m\n\u001b[1;32m   1503\u001b[0m full_backward_hooks, non_full_backward_hooks \u001b[38;5;241m=\u001b[39m [], []\n",
      "File \u001b[0;32m~/repo/cfd/myNeuralOperator/neuralop/layers/fno_block.py:518\u001b[0m, in \u001b[0;36mFNOBlocks1.forward\u001b[0;34m(self, x, index, output_shape)\u001b[0m\n\u001b[1;32m    516\u001b[0m     \u001b[38;5;28;01mreturn\u001b[39;00m \u001b[38;5;28mself\u001b[39m\u001b[38;5;241m.\u001b[39mforward_with_preactivation(x, index, output_shape)\n\u001b[1;32m    517\u001b[0m \u001b[38;5;28;01melse\u001b[39;00m:\n\u001b[0;32m--> 518\u001b[0m     \u001b[38;5;28;01mreturn\u001b[39;00m \u001b[38;5;28;43mself\u001b[39;49m\u001b[38;5;241;43m.\u001b[39;49m\u001b[43mforward_with_postactivation\u001b[49m\u001b[43m(\u001b[49m\u001b[43mx\u001b[49m\u001b[43m,\u001b[49m\u001b[43m \u001b[49m\u001b[43mindex\u001b[49m\u001b[43m,\u001b[49m\u001b[43m \u001b[49m\u001b[43moutput_shape\u001b[49m\u001b[43m)\u001b[49m\n",
      "File \u001b[0;32m~/repo/cfd/myNeuralOperator/neuralop/layers/fno_block.py:532\u001b[0m, in \u001b[0;36mFNOBlocks1.forward_with_postactivation\u001b[0;34m(self, x, index, output_shape)\u001b[0m\n\u001b[1;32m    529\u001b[0m \u001b[38;5;28;01mif\u001b[39;00m \u001b[38;5;28mself\u001b[39m\u001b[38;5;241m.\u001b[39mstabilizer \u001b[38;5;129;01mis\u001b[39;00m \u001b[38;5;129;01mnot\u001b[39;00m \u001b[38;5;28;01mNone\u001b[39;00m:\n\u001b[1;32m    530\u001b[0m     x \u001b[38;5;241m=\u001b[39m \u001b[38;5;28mself\u001b[39m\u001b[38;5;241m.\u001b[39mstabilizer(x)\n\u001b[0;32m--> 532\u001b[0m x_fno \u001b[38;5;241m=\u001b[39m \u001b[38;5;28;43mself\u001b[39;49m\u001b[38;5;241;43m.\u001b[39;49m\u001b[43mconvs\u001b[49m\u001b[43m(\u001b[49m\u001b[43mx\u001b[49m\u001b[43m,\u001b[49m\u001b[43m \u001b[49m\u001b[43mindex\u001b[49m\u001b[43m,\u001b[49m\u001b[43m \u001b[49m\u001b[43moutput_shape\u001b[49m\u001b[38;5;241;43m=\u001b[39;49m\u001b[43moutput_shape\u001b[49m\u001b[43m)\u001b[49m\n\u001b[1;32m    534\u001b[0m \u001b[38;5;28;01mif\u001b[39;00m \u001b[38;5;28mself\u001b[39m\u001b[38;5;241m.\u001b[39mnorm \u001b[38;5;129;01mis\u001b[39;00m \u001b[38;5;129;01mnot\u001b[39;00m \u001b[38;5;28;01mNone\u001b[39;00m:\n\u001b[1;32m    535\u001b[0m     x_fno \u001b[38;5;241m=\u001b[39m \u001b[38;5;28mself\u001b[39m\u001b[38;5;241m.\u001b[39mnorm[\u001b[38;5;28mself\u001b[39m\u001b[38;5;241m.\u001b[39mn_norms \u001b[38;5;241m*\u001b[39m index](x_fno)\n",
      "File \u001b[0;32m~/anaconda3/envs/test/lib/python3.10/site-packages/torch/nn/modules/module.py:1501\u001b[0m, in \u001b[0;36mModule._call_impl\u001b[0;34m(self, *args, **kwargs)\u001b[0m\n\u001b[1;32m   1496\u001b[0m \u001b[38;5;66;03m# If we don't have any hooks, we want to skip the rest of the logic in\u001b[39;00m\n\u001b[1;32m   1497\u001b[0m \u001b[38;5;66;03m# this function, and just call forward.\u001b[39;00m\n\u001b[1;32m   1498\u001b[0m \u001b[38;5;28;01mif\u001b[39;00m \u001b[38;5;129;01mnot\u001b[39;00m (\u001b[38;5;28mself\u001b[39m\u001b[38;5;241m.\u001b[39m_backward_hooks \u001b[38;5;129;01mor\u001b[39;00m \u001b[38;5;28mself\u001b[39m\u001b[38;5;241m.\u001b[39m_backward_pre_hooks \u001b[38;5;129;01mor\u001b[39;00m \u001b[38;5;28mself\u001b[39m\u001b[38;5;241m.\u001b[39m_forward_hooks \u001b[38;5;129;01mor\u001b[39;00m \u001b[38;5;28mself\u001b[39m\u001b[38;5;241m.\u001b[39m_forward_pre_hooks\n\u001b[1;32m   1499\u001b[0m         \u001b[38;5;129;01mor\u001b[39;00m _global_backward_pre_hooks \u001b[38;5;129;01mor\u001b[39;00m _global_backward_hooks\n\u001b[1;32m   1500\u001b[0m         \u001b[38;5;129;01mor\u001b[39;00m _global_forward_hooks \u001b[38;5;129;01mor\u001b[39;00m _global_forward_pre_hooks):\n\u001b[0;32m-> 1501\u001b[0m     \u001b[38;5;28;01mreturn\u001b[39;00m \u001b[43mforward_call\u001b[49m\u001b[43m(\u001b[49m\u001b[38;5;241;43m*\u001b[39;49m\u001b[43margs\u001b[49m\u001b[43m,\u001b[49m\u001b[43m \u001b[49m\u001b[38;5;241;43m*\u001b[39;49m\u001b[38;5;241;43m*\u001b[39;49m\u001b[43mkwargs\u001b[49m\u001b[43m)\u001b[49m\n\u001b[1;32m   1502\u001b[0m \u001b[38;5;66;03m# Do not call functions when jit is used\u001b[39;00m\n\u001b[1;32m   1503\u001b[0m full_backward_hooks, non_full_backward_hooks \u001b[38;5;241m=\u001b[39m [], []\n",
      "File \u001b[0;32m~/repo/cfd/myNeuralOperator/neuralop/layers/spectral_convolution.py:486\u001b[0m, in \u001b[0;36mSpectralConv.forward\u001b[0;34m(self, x, indices, output_shape)\u001b[0m\n\u001b[1;32m    483\u001b[0m     idx_tuple \u001b[38;5;241m=\u001b[39m [\u001b[38;5;28mslice\u001b[39m(\u001b[38;5;28;01mNone\u001b[39;00m), \u001b[38;5;28mslice\u001b[39m(\u001b[38;5;28;01mNone\u001b[39;00m)] \u001b[38;5;241m+\u001b[39m [\u001b[38;5;28mslice\u001b[39m(\u001b[38;5;241m*\u001b[39mb) \u001b[38;5;28;01mfor\u001b[39;00m b \u001b[38;5;129;01min\u001b[39;00m boundaries]\n\u001b[1;32m    485\u001b[0m     \u001b[38;5;66;03m# For 2D: [:, :, :height, :width] and [:, :, -height:, width]\u001b[39;00m\n\u001b[0;32m--> 486\u001b[0m     out_fft[idx_tuple] \u001b[38;5;241m=\u001b[39m \u001b[38;5;28;43mself\u001b[39;49m\u001b[38;5;241;43m.\u001b[39;49m\u001b[43m_contract\u001b[49m\u001b[43m(\u001b[49m\n\u001b[1;32m    487\u001b[0m \u001b[43m        \u001b[49m\u001b[43mx\u001b[49m\u001b[43m[\u001b[49m\u001b[43midx_tuple\u001b[49m\u001b[43m]\u001b[49m\u001b[43m,\u001b[49m\n\u001b[1;32m    488\u001b[0m \u001b[43m        \u001b[49m\u001b[38;5;28;43mself\u001b[39;49m\u001b[38;5;241;43m.\u001b[39;49m\u001b[43m_get_weight\u001b[49m\u001b[43m(\u001b[49m\u001b[38;5;28;43mself\u001b[39;49m\u001b[38;5;241;43m.\u001b[39;49m\u001b[43mn_weights_per_layer\u001b[49m\u001b[43m \u001b[49m\u001b[38;5;241;43m*\u001b[39;49m\u001b[43m \u001b[49m\u001b[43mindices\u001b[49m\u001b[43m \u001b[49m\u001b[38;5;241;43m+\u001b[39;49m\u001b[43m \u001b[49m\u001b[43mi\u001b[49m\u001b[43m)\u001b[49m\u001b[43m,\u001b[49m\n\u001b[1;32m    489\u001b[0m \u001b[43m        \u001b[49m\u001b[43mseparable\u001b[49m\u001b[38;5;241;43m=\u001b[39;49m\u001b[38;5;28;43mself\u001b[39;49m\u001b[38;5;241;43m.\u001b[39;49m\u001b[43mseparable\u001b[49m\u001b[43m,\u001b[49m\n\u001b[1;32m    490\u001b[0m \u001b[43m    \u001b[49m\u001b[43m)\u001b[49m\n\u001b[1;32m    492\u001b[0m \u001b[38;5;28;01mif\u001b[39;00m \u001b[38;5;28mself\u001b[39m\u001b[38;5;241m.\u001b[39moutput_scaling_factor \u001b[38;5;129;01mis\u001b[39;00m \u001b[38;5;129;01mnot\u001b[39;00m \u001b[38;5;28;01mNone\u001b[39;00m \u001b[38;5;129;01mand\u001b[39;00m output_shape \u001b[38;5;129;01mis\u001b[39;00m \u001b[38;5;28;01mNone\u001b[39;00m:\n\u001b[1;32m    493\u001b[0m     mode_sizes \u001b[38;5;241m=\u001b[39m \u001b[38;5;28mtuple\u001b[39m(\n\u001b[1;32m    494\u001b[0m         [\n\u001b[1;32m    495\u001b[0m             \u001b[38;5;28mround\u001b[39m(s \u001b[38;5;241m*\u001b[39m r)\n\u001b[1;32m    496\u001b[0m             \u001b[38;5;28;01mfor\u001b[39;00m (s, r) \u001b[38;5;129;01min\u001b[39;00m \u001b[38;5;28mzip\u001b[39m(mode_sizes, \u001b[38;5;28mself\u001b[39m\u001b[38;5;241m.\u001b[39moutput_scaling_factor[indices])\n\u001b[1;32m    497\u001b[0m         ]\n\u001b[1;32m    498\u001b[0m     )\n",
      "File \u001b[0;32m~/repo/cfd/myNeuralOperator/neuralop/layers/spectral_convolution.py:109\u001b[0m, in \u001b[0;36m_contract_tucker\u001b[0;34m(x, tucker_weight, separable)\u001b[0m\n\u001b[1;32m    107\u001b[0m     \u001b[38;5;28;01mreturn\u001b[39;00m einsum_complexhalf(eq, x, tucker_weight\u001b[38;5;241m.\u001b[39mcore, \u001b[38;5;241m*\u001b[39mtucker_weight\u001b[38;5;241m.\u001b[39mfactors)\n\u001b[1;32m    108\u001b[0m \u001b[38;5;28;01melse\u001b[39;00m:\n\u001b[0;32m--> 109\u001b[0m     \u001b[38;5;28;01mreturn\u001b[39;00m \u001b[43mtl\u001b[49m\u001b[38;5;241;43m.\u001b[39;49m\u001b[43meinsum\u001b[49m\u001b[43m(\u001b[49m\u001b[43meq\u001b[49m\u001b[43m,\u001b[49m\u001b[43m \u001b[49m\u001b[43mx\u001b[49m\u001b[43m,\u001b[49m\u001b[43m \u001b[49m\u001b[43mtucker_weight\u001b[49m\u001b[38;5;241;43m.\u001b[39;49m\u001b[43mcore\u001b[49m\u001b[43m,\u001b[49m\u001b[43m \u001b[49m\u001b[38;5;241;43m*\u001b[39;49m\u001b[43mtucker_weight\u001b[49m\u001b[38;5;241;43m.\u001b[39;49m\u001b[43mfactors\u001b[49m\u001b[43m)\u001b[49m\n",
      "File \u001b[0;32m~/anaconda3/envs/test/lib/python3.10/site-packages/tensorly/backend/__init__.py:206\u001b[0m, in \u001b[0;36mBackendManager.dispatch_backend_method.<locals>.wrapped_backend_method\u001b[0;34m(*args, **kwargs)\u001b[0m\n\u001b[1;32m    202\u001b[0m \u001b[38;5;28;01mdef\u001b[39;00m \u001b[38;5;21mwrapped_backend_method\u001b[39m(\u001b[38;5;241m*\u001b[39margs, \u001b[38;5;241m*\u001b[39m\u001b[38;5;241m*\u001b[39mkwargs):\n\u001b[1;32m    203\u001b[0m \u001b[38;5;250m    \u001b[39m\u001b[38;5;124;03m\"\"\"A dynamically dispatched method\u001b[39;00m\n\u001b[1;32m    204\u001b[0m \n\u001b[1;32m    205\u001b[0m \u001b[38;5;124;03m    Returns the queried method from the currently set backend\"\"\"\u001b[39;00m\n\u001b[0;32m--> 206\u001b[0m     \u001b[38;5;28;01mreturn\u001b[39;00m \u001b[38;5;28;43mgetattr\u001b[39;49m\u001b[43m(\u001b[49m\n\u001b[1;32m    207\u001b[0m \u001b[43m        \u001b[49m\u001b[38;5;28;43mcls\u001b[39;49m\u001b[38;5;241;43m.\u001b[39;49m\u001b[43m_THREAD_LOCAL_DATA\u001b[49m\u001b[38;5;241;43m.\u001b[39;49m\u001b[38;5;18;43m__dict__\u001b[39;49m\u001b[38;5;241;43m.\u001b[39;49m\u001b[43mget\u001b[49m\u001b[43m(\u001b[49m\u001b[38;5;124;43m\"\u001b[39;49m\u001b[38;5;124;43mbackend\u001b[39;49m\u001b[38;5;124;43m\"\u001b[39;49m\u001b[43m,\u001b[49m\u001b[43m \u001b[49m\u001b[38;5;28;43mcls\u001b[39;49m\u001b[38;5;241;43m.\u001b[39;49m\u001b[43m_backend\u001b[49m\u001b[43m)\u001b[49m\u001b[43m,\u001b[49m\u001b[43m \u001b[49m\u001b[43mname\u001b[49m\n\u001b[1;32m    208\u001b[0m \u001b[43m    \u001b[49m\u001b[43m)\u001b[49m\u001b[43m(\u001b[49m\u001b[38;5;241;43m*\u001b[39;49m\u001b[43margs\u001b[49m\u001b[43m,\u001b[49m\u001b[43m \u001b[49m\u001b[38;5;241;43m*\u001b[39;49m\u001b[38;5;241;43m*\u001b[39;49m\u001b[43mkwargs\u001b[49m\u001b[43m)\u001b[49m\n",
      "File \u001b[0;32m~/anaconda3/envs/test/lib/python3.10/site-packages/tensorly/plugins.py:77\u001b[0m, in \u001b[0;36muse_opt_einsum.<locals>.cached_einsum\u001b[0;34m(equation, *args)\u001b[0m\n\u001b[1;32m     74\u001b[0m     expression \u001b[38;5;241m=\u001b[39m oe\u001b[38;5;241m.\u001b[39mcontract_expression(equation, \u001b[38;5;241m*\u001b[39mshapes, optimize\u001b[38;5;241m=\u001b[39moptimize)\n\u001b[1;32m     75\u001b[0m     OPT_EINSUM_PATH_CACHE[key] \u001b[38;5;241m=\u001b[39m expression\n\u001b[0;32m---> 77\u001b[0m \u001b[38;5;28;01mreturn\u001b[39;00m \u001b[43mexpression\u001b[49m\u001b[43m(\u001b[49m\u001b[38;5;241;43m*\u001b[39;49m\u001b[43margs\u001b[49m\u001b[43m)\u001b[49m\n",
      "File \u001b[0;32m~/anaconda3/envs/test/lib/python3.10/site-packages/opt_einsum/contract.py:760\u001b[0m, in \u001b[0;36mContractExpression.__call__\u001b[0;34m(self, *arrays, **kwargs)\u001b[0m\n\u001b[1;32m    755\u001b[0m     ops \u001b[38;5;241m=\u001b[39m arrays\n\u001b[1;32m    757\u001b[0m \u001b[38;5;28;01mtry\u001b[39;00m:\n\u001b[1;32m    758\u001b[0m     \u001b[38;5;66;03m# Check if the backend requires special preparation / calling\u001b[39;00m\n\u001b[1;32m    759\u001b[0m     \u001b[38;5;66;03m#   but also ignore non-numpy arrays -> assume user wants same type back\u001b[39;00m\n\u001b[0;32m--> 760\u001b[0m     \u001b[38;5;28;01mif\u001b[39;00m backends\u001b[38;5;241m.\u001b[39mhas_backend(backend) \u001b[38;5;129;01mand\u001b[39;00m \u001b[38;5;28;43mall\u001b[39;49m\u001b[43m(\u001b[49m\u001b[38;5;28;43misinstance\u001b[39;49m\u001b[43m(\u001b[49m\u001b[43mx\u001b[49m\u001b[43m,\u001b[49m\u001b[43m \u001b[49m\u001b[43mnp\u001b[49m\u001b[38;5;241;43m.\u001b[39;49m\u001b[43mndarray\u001b[49m\u001b[43m)\u001b[49m\u001b[43m \u001b[49m\u001b[38;5;28;43;01mfor\u001b[39;49;00m\u001b[43m \u001b[49m\u001b[43mx\u001b[49m\u001b[43m \u001b[49m\u001b[38;5;129;43;01min\u001b[39;49;00m\u001b[43m \u001b[49m\u001b[43marrays\u001b[49m\u001b[43m)\u001b[49m:\n\u001b[1;32m    761\u001b[0m         \u001b[38;5;28;01mreturn\u001b[39;00m \u001b[38;5;28mself\u001b[39m\u001b[38;5;241m.\u001b[39m_contract_with_conversion(ops, out, backend, evaluate_constants\u001b[38;5;241m=\u001b[39mevaluate_constants)\n\u001b[1;32m    763\u001b[0m     \u001b[38;5;28;01mreturn\u001b[39;00m \u001b[38;5;28mself\u001b[39m\u001b[38;5;241m.\u001b[39m_contract(ops, out, backend, evaluate_constants\u001b[38;5;241m=\u001b[39mevaluate_constants)\n",
      "File \u001b[0;32m~/anaconda3/envs/test/lib/python3.10/site-packages/opt_einsum/contract.py:760\u001b[0m, in \u001b[0;36m<genexpr>\u001b[0;34m(.0)\u001b[0m\n\u001b[1;32m    755\u001b[0m     ops \u001b[38;5;241m=\u001b[39m arrays\n\u001b[1;32m    757\u001b[0m \u001b[38;5;28;01mtry\u001b[39;00m:\n\u001b[1;32m    758\u001b[0m     \u001b[38;5;66;03m# Check if the backend requires special preparation / calling\u001b[39;00m\n\u001b[1;32m    759\u001b[0m     \u001b[38;5;66;03m#   but also ignore non-numpy arrays -> assume user wants same type back\u001b[39;00m\n\u001b[0;32m--> 760\u001b[0m     \u001b[38;5;28;01mif\u001b[39;00m backends\u001b[38;5;241m.\u001b[39mhas_backend(backend) \u001b[38;5;129;01mand\u001b[39;00m \u001b[38;5;28mall\u001b[39m(\u001b[38;5;28;43misinstance\u001b[39;49m\u001b[43m(\u001b[49m\u001b[43mx\u001b[49m\u001b[43m,\u001b[49m\u001b[43m \u001b[49m\u001b[43mnp\u001b[49m\u001b[38;5;241;43m.\u001b[39;49m\u001b[43mndarray\u001b[49m\u001b[43m)\u001b[49m \u001b[38;5;28;01mfor\u001b[39;00m x \u001b[38;5;129;01min\u001b[39;00m arrays):\n\u001b[1;32m    761\u001b[0m         \u001b[38;5;28;01mreturn\u001b[39;00m \u001b[38;5;28mself\u001b[39m\u001b[38;5;241m.\u001b[39m_contract_with_conversion(ops, out, backend, evaluate_constants\u001b[38;5;241m=\u001b[39mevaluate_constants)\n\u001b[1;32m    763\u001b[0m     \u001b[38;5;28;01mreturn\u001b[39;00m \u001b[38;5;28mself\u001b[39m\u001b[38;5;241m.\u001b[39m_contract(ops, out, backend, evaluate_constants\u001b[38;5;241m=\u001b[39mevaluate_constants)\n",
      "\u001b[0;31mKeyboardInterrupt\u001b[0m: "
     ]
    }
   ],
   "source": [
    "trainer.train(train_loader=train_loader,\n",
    "              test_loader={'irrevalent': test_loader, 'similar': sim_test_loader},\n",
    "              optimizer=optimizer, \n",
    "              scheduler=scheduler, \n",
    "              regularizer=False, \n",
    "              training_loss=train_loss, \n",
    "              eval_losses=eval_losses)"
   ]
  },
  {
   "cell_type": "code",
   "execution_count": 8,
   "metadata": {},
   "outputs": [
    {
     "data": {
      "text/plain": [
       "<neuralop.datasets.autoregressive_dataset.AutoregressiveDataset at 0x7f49185ba680>"
      ]
     },
     "execution_count": 8,
     "metadata": {},
     "output_type": "execute_result"
    }
   ],
   "source": [
    "test_loader.dataset"
   ]
  },
  {
   "cell_type": "code",
   "execution_count": 16,
   "metadata": {},
   "outputs": [],
   "source": [
    "torch.save(trainer.model, \"./ckpt/TFNO_ep300.pth\")"
   ]
  },
  {
   "cell_type": "code",
   "execution_count": 8,
   "metadata": {},
   "outputs": [
    {
     "name": "stderr",
     "output_type": "stream",
     "text": [
      "/tmp/ipykernel_13037/1837442807.py:36: UserWarning: Matplotlib is currently using module://matplotlib_inline.backend_inline, which is a non-GUI backend, so cannot show the figure.\n",
      "  fig.show()\n"
     ]
    },
    {
     "data": {
      "image/png": "[encoded data removed]",
      "text/plain": [
       "<Figure size 504x504 with 9 Axes>"
      ]
     },
     "metadata": {},
     "output_type": "display_data"
    }
   ],
   "source": [
    "test_samples = test_loader.dataset\n",
    "\n",
    "fig = plt.figure(figsize=(7, 7))\n",
    "for index in range(3):\n",
    "    data = test_samples[index]\n",
    "    # Input x\n",
    "    x = data['x']\n",
    "    # Ground-truth\n",
    "    y = data['y']\n",
    "    # Model prediction\n",
    "    out = model(x.unsqueeze(0))\n",
    "\n",
    "    ax = fig.add_subplot(3, 3, index*3 + 1)\n",
    "    ax.imshow(x[0], cmap='gray')\n",
    "    if index == 0: \n",
    "        ax.set_title('Input x')\n",
    "    plt.xticks([], [])\n",
    "    plt.yticks([], [])\n",
    "\n",
    "    ax = fig.add_subplot(3, 3, index*3 + 2)\n",
    "    ax.imshow(y.squeeze())\n",
    "    if index == 0: \n",
    "        ax.set_title('Ground-truth y')\n",
    "    plt.xticks([], [])\n",
    "    plt.yticks([], [])\n",
    "\n",
    "    ax = fig.add_subplot(3, 3, index*3 + 3)\n",
    "    ax.imshow(out.squeeze().detach().numpy())\n",
    "    if index == 0: \n",
    "        ax.set_title('Model prediction')\n",
    "    plt.xticks([], [])\n",
    "    plt.yticks([], [])\n",
    "\n",
    "fig.suptitle('Inputs, ground-truth output and prediction.', y=0.98)\n",
    "plt.tight_layout()\n",
    "fig.show()"
   ]
  },
  {
   "cell_type": "code",
   "execution_count": null,
   "metadata": {},
   "outputs": [],
   "source": [
    "/home/yichen/repo/cfd/myFNO/data/ns_contextual/"
   ]
  }
 ],
 "metadata": {
  "kernelspec": {
   "display_name": "learn",
   "language": "python",
   "name": "python3"
  },
  "language_info": {
   "codemirror_mode": {
    "name": "ipython",
    "version": 3
   },
   "file_extension": ".py",
   "mimetype": "text/x-python",
   "name": "python",
   "nbconvert_exporter": "python",
   "pygments_lexer": "ipython3",
   "version": "3.10.14"
  }
 },
 "nbformat": 4,
 "nbformat_minor": 2
}
