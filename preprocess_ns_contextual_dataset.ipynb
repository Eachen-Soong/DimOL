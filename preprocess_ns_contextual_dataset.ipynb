{
 "cells": [
  {
   "cell_type": "code",
   "execution_count": 1,
   "metadata": {},
   "outputs": [],
   "source": [
    "import h5py\n",
    "import numpy as np"
   ]
  },
  {
   "cell_type": "code",
   "execution_count": 2,
   "metadata": {},
   "outputs": [],
   "source": [
    "def merge_dataset_chunked(f_in, f_out, chunk_size=20):\n",
    "    # Copy 'train' datasets if not exist in output, in chunks\n",
    "    for data_name in f_in['train']:\n",
    "        if data_name not in f_out:\n",
    "            ds_in = f_in['train'][data_name]\n",
    "            max_shape = ds_in.shape\n",
    "            chunk_shape = (min(chunk_size, max_shape[0]),) + max_shape[1:]\n",
    "            ds_out = f_out.create_dataset(data_name, shape=max_shape, dtype=ds_in.dtype, chunks=chunk_shape)\n",
    "            for i in range(0, ds_in.shape[0], chunk_size):\n",
    "                ds_out[i:i + chunk_size] = ds_in[i:i + chunk_size]\n",
    "    \n",
    "    for group_name in ['test', 'valid']:\n",
    "        if group_name in f_in:\n",
    "            for data_name in f_in[group_name]:\n",
    "                ds_in = f_in[group_name][data_name]\n",
    "                if data_name in f_out:\n",
    "                    ds_out = f_out[data_name]\n",
    "                    new_shape = (ds_out.shape[0] + ds_in.shape[0],) + ds_out.shape[1:]\n",
    "                    temp_name = data_name + \"_temp\"\n",
    "                    temp_ds = f_out.create_dataset(temp_name, new_shape, dtype=ds_in.dtype, chunks=ds_out.chunks)\n",
    "                    \n",
    "                    # Copy data from the old dataset in chunks\n",
    "                    for i in range(0, ds_out.shape[0], chunk_size):\n",
    "                        end_index = min(i + chunk_size, ds_out.shape[0])\n",
    "                        temp_ds[i:end_index] = ds_out[i:end_index]\n",
    "                    \n",
    "                    del f_out[data_name]  # Remove old dataset\n",
    "                    \n",
    "                    # Append new data in chunks\n",
    "                    for i in range(0, ds_in.shape[0], chunk_size):\n",
    "                        end_index = ds_out.shape[0] + i + chunk_size\n",
    "                        temp_ds[ds_out.shape[0] + i:end_index] = ds_in[i:i + chunk_size]\n",
    "                    \n",
    "                    f_out.move(temp_name, data_name)\n",
    "                    del temp_ds\n",
    "                else:\n",
    "                    max_shape = ds_in.shape\n",
    "                    chunk_shape = (min(chunk_size, max_shape[0]),) + max_shape[1:]\n",
    "                    f_out.create_dataset(data_name, shape=max_shape, dtype=ds_in.dtype, chunks=chunk_shape, data=ds_in)\n"
   ]
  },
  {
   "cell_type": "code",
   "execution_count": 3,
   "metadata": {},
   "outputs": [],
   "source": [
    "def copy_datasets(source_file_path, target_file_path):\n",
    "    with h5py.File(source_file_path, 'r') as source_file, h5py.File(target_file_path, 'w') as target_file:\n",
    "        def copy_dataset(name, obj):\n",
    "            if isinstance(obj, h5py.Dataset):\n",
    "                target_file.create_dataset(name, data=obj[()])\n",
    "            elif isinstance(obj, h5py.Group):\n",
    "                target_file.create_group(name)\n",
    "        \n",
    "        source_file.visititems(copy_dataset)"
   ]
  },
  {
   "cell_type": "code",
   "execution_count": 4,
   "metadata": {},
   "outputs": [
    {
     "ename": "",
     "evalue": "",
     "output_type": "error",
     "traceback": [
      "\u001b[1;31m在当前单元格或上一个单元格中执行代码时 Kernel 崩溃。\n",
      "\u001b[1;31m请查看单元格中的代码，以确定故障的可能原因。\n",
      "\u001b[1;31m单击<a href='https://aka.ms/vscodeJupyterKernelCrash'>此处</a>了解详细信息。\n",
      "\u001b[1;31m有关更多详细信息，请查看 Jupyter <a href='command:jupyter.viewOutput'>log</a>。"
     ]
    }
   ],
   "source": [
    "input_file = \"../../data/ns_contextual/ns_random_forces.h5\"\n",
    "output_file = \"../../data/ns_contextual/ns_random_forces_v1.h5\"\n",
    "\n",
    "with h5py.File(input_file, 'r') as f_in:\n",
    "    with h5py.File(output_file, 'a') as f_out:\n",
    "        merge_dataset_chunked(f_in, f_out)\n",
    "\n",
    "        # Read the data into memory\n",
    "        a_data = f_out['a'][:]\n",
    "        u_data = f_out['u'][:]\n",
    "\n",
    "        # Process the data\n",
    "        expanded_a_data = np.expand_dims(a_data, axis=-1)\n",
    "        concatenated_data = np.concatenate((expanded_a_data, u_data), axis=-1)\n",
    "\n",
    "        # Replace the 'u' dataset\n",
    "        del f_out['u']  # Delete the existing 'u' dataset\n",
    "        f_out.create_dataset('u', data=concatenated_data)\n",
    "\n",
    "        # Optionally, delete the 'a' dataset if no longer needed\n",
    "        del f_out['a']"
   ]
  },
  {
   "cell_type": "code",
   "execution_count": null,
   "metadata": {},
   "outputs": [],
   "source": [
    "source_h5_path = \"../../data/ns_contextual/ns_random_forces_v1.h5\"\n",
    "target_h5_path = \"../../data/ns_contextual/ns_random_forces_v0.h5\"\n",
    "copy_datasets(source_h5_path, target_h5_path)"
   ]
  },
  {
   "cell_type": "code",
   "execution_count": null,
   "metadata": {},
   "outputs": [],
   "source": [
    "!rm \"../data/ns_contextual/ns_random_forces_v1.h5\""
   ]
  }
 ],
 "metadata": {
  "kernelspec": {
   "display_name": "test",
   "language": "python",
   "name": "python3"
  },
  "language_info": {
   "codemirror_mode": {
    "name": "ipython",
    "version": 3
   },
   "file_extension": ".py",
   "mimetype": "text/x-python",
   "name": "python",
   "nbconvert_exporter": "python",
   "pygments_lexer": "ipython3",
   "version": "3.10.14"
  }
 },
 "nbformat": 4,
 "nbformat_minor": 2
}
