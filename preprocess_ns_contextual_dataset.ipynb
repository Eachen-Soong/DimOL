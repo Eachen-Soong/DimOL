{
 "cells": [
  {
   "cell_type": "code",
   "execution_count": 4,
   "metadata": {},
   "outputs": [],
   "source": [
    "import h5py\n",
    "import numpy as np"
   ]
  },
  {
   "cell_type": "code",
   "execution_count": 1,
   "metadata": {},
   "outputs": [],
   "source": [
    "# def merge_dataset(f_in, f_out, chunk_size=20):\n",
    "#     # Copy 'train' datasets if not exist in output\n",
    "#     for data_name in f_in['train']:\n",
    "#         if data_name not in f_out:\n",
    "#             data = f_in['train'][data_name]\n",
    "#             # Create chunked dataset\n",
    "#             f_out.create_dataset(data_name, data=data, chunks=(min(chunk_size, data.shape[0]),) + data.shape[1:])\n",
    "\n",
    "#     for group_name in ['test', 'valid']:\n",
    "#         for data_name in f_in[group_name]:\n",
    "#             ds_in = f_in[group_name][data_name]\n",
    "#             if data_name in f_out:\n",
    "#                 # Get existing dataset\n",
    "#                 ds_out = f_out[data_name]\n",
    "#                 # Determine the name for a temporary dataset\n",
    "#                 temp_name = data_name + \"_temp\"\n",
    "#                 # If a temporary dataset already exists, delete it\n",
    "#                 if temp_name in f_out:\n",
    "#                     del f_out[temp_name]\n",
    "#                 # Create a new dataset with chunking and expanded size\n",
    "#                 new_shape = (ds_out.shape[0] + ds_in.shape[0],) + ds_out.shape[1:]\n",
    "#                 chunked_shape = (min(chunk_size, new_shape[0]),) + new_shape[1:]\n",
    "#                 temp_ds = f_out.create_dataset(temp_name, new_shape, chunks=chunked_shape)\n",
    "#                 # Copy old data to new dataset\n",
    "#                 temp_ds[:ds_out.shape[0]] = ds_out[:]\n",
    "#                 # Append new data in chunks\n",
    "#                 for i in range(0, ds_in.shape[0], chunk_size):\n",
    "#                     chunk = ds_in[i:i + chunk_size]\n",
    "#                     temp_ds[ds_out.shape[0] + i:ds_out.shape[0] + i + chunk.shape[0]] = chunk\n",
    "#                 # Delete the old dataset\n",
    "#                 del f_out[data_name]\n",
    "#                 # Create a new dataset with the original name and copy the data from the temporary dataset\n",
    "#                 f_out.create_dataset(data_name, data=temp_ds, chunks=chunked_shape)\n",
    "#                 # Delete the temporary dataset\n",
    "#                 del f_out[temp_name]\n",
    "#             else:\n",
    "#                 # Create new dataset if not exist\n",
    "#                 f_out.create_dataset(data_name, data=ds_in, chunks=(min(chunk_size, ds_in.shape[0]),) + ds_in.shape[1:])"
   ]
  },
  {
   "cell_type": "code",
   "execution_count": 8,
   "metadata": {},
   "outputs": [],
   "source": [
    "def merge_dataset_chunked(f_in, f_out, chunk_size=20):\n",
    "    # Copy 'train' datasets if not exist in output, in chunks\n",
    "    for data_name in f_in['train']:\n",
    "        if data_name not in f_out:\n",
    "            ds_in = f_in['train'][data_name]\n",
    "            max_shape = ds_in.shape\n",
    "            chunk_shape = (min(chunk_size, max_shape[0]),) + max_shape[1:]\n",
    "            ds_out = f_out.create_dataset(data_name, shape=max_shape, dtype=ds_in.dtype, chunks=chunk_shape)\n",
    "            for i in range(0, ds_in.shape[0], chunk_size):\n",
    "                ds_out[i:i + chunk_size] = ds_in[i:i + chunk_size]\n",
    "    \n",
    "    for group_name in ['test', 'valid']:\n",
    "        if group_name in f_in:\n",
    "            for data_name in f_in[group_name]:\n",
    "                ds_in = f_in[group_name][data_name]\n",
    "                if data_name in f_out:\n",
    "                    ds_out = f_out[data_name]\n",
    "                    new_shape = (ds_out.shape[0] + ds_in.shape[0],) + ds_out.shape[1:]\n",
    "                    temp_name = data_name + \"_temp\"\n",
    "                    temp_ds = f_out.create_dataset(temp_name, new_shape, dtype=ds_in.dtype, chunks=ds_out.chunks)\n",
    "                    \n",
    "                    # Copy data from the old dataset in chunks\n",
    "                    for i in range(0, ds_out.shape[0], chunk_size):\n",
    "                        end_index = min(i + chunk_size, ds_out.shape[0])\n",
    "                        temp_ds[i:end_index] = ds_out[i:end_index]\n",
    "                    \n",
    "                    del f_out[data_name]  # Remove old dataset\n",
    "                    \n",
    "                    # Append new data in chunks\n",
    "                    for i in range(0, ds_in.shape[0], chunk_size):\n",
    "                        end_index = ds_out.shape[0] + i + chunk_size\n",
    "                        temp_ds[ds_out.shape[0] + i:end_index] = ds_in[i:i + chunk_size]\n",
    "                    \n",
    "                    f_out.move(temp_name, data_name)\n",
    "                else:\n",
    "                    max_shape = ds_in.shape\n",
    "                    chunk_shape = (min(chunk_size, max_shape[0]),) + max_shape[1:]\n",
    "                    f_out.create_dataset(data_name, shape=max_shape, dtype=ds_in.dtype, chunks=chunk_shape, data=ds_in)\n"
   ]
  },
  {
   "cell_type": "code",
   "execution_count": 9,
   "metadata": {},
   "outputs": [],
   "source": [
    "def copy_datasets(source_file_path, target_file_path):\n",
    "    with h5py.File(source_file_path, 'r') as source_file, h5py.File(target_file_path, 'w') as target_file:\n",
    "        def copy_dataset(name, obj):\n",
    "            if isinstance(obj, h5py.Dataset):\n",
    "                target_file.create_dataset(name, data=obj[()])\n",
    "            elif isinstance(obj, h5py.Group):\n",
    "                target_file.create_group(name)\n",
    "        \n",
    "        source_file.visititems(copy_dataset)"
   ]
  },
  {
   "cell_type": "code",
   "execution_count": 11,
   "metadata": {},
   "outputs": [
    {
     "ename": "MemoryError",
     "evalue": "Unable to allocate 68.4 GiB for an array with shape (1400, 256, 256, 200) and data type float32",
     "output_type": "error",
     "traceback": [
      "\u001b[0;31m---------------------------------------------------------------------------\u001b[0m",
      "\u001b[0;31mMemoryError\u001b[0m                               Traceback (most recent call last)",
      "Cell \u001b[0;32mIn[11], line 10\u001b[0m\n\u001b[1;32m      8\u001b[0m \u001b[38;5;66;03m# Read the data into memory\u001b[39;00m\n\u001b[1;32m      9\u001b[0m a_data \u001b[38;5;241m=\u001b[39m f_out[\u001b[38;5;124m'\u001b[39m\u001b[38;5;124ma\u001b[39m\u001b[38;5;124m'\u001b[39m][:]\n\u001b[0;32m---> 10\u001b[0m u_data \u001b[38;5;241m=\u001b[39m \u001b[43mf_out\u001b[49m\u001b[43m[\u001b[49m\u001b[38;5;124;43m'\u001b[39;49m\u001b[38;5;124;43mu\u001b[39;49m\u001b[38;5;124;43m'\u001b[39;49m\u001b[43m]\u001b[49m\u001b[43m[\u001b[49m\u001b[43m:\u001b[49m\u001b[43m]\u001b[49m\n\u001b[1;32m     12\u001b[0m \u001b[38;5;66;03m# Process the data\u001b[39;00m\n\u001b[1;32m     13\u001b[0m expanded_a_data \u001b[38;5;241m=\u001b[39m np\u001b[38;5;241m.\u001b[39mexpand_dims(a_data, axis\u001b[38;5;241m=\u001b[39m\u001b[38;5;241m-\u001b[39m\u001b[38;5;241m1\u001b[39m)\n",
      "File \u001b[0;32mh5py/_objects.pyx:54\u001b[0m, in \u001b[0;36mh5py._objects.with_phil.wrapper\u001b[0;34m()\u001b[0m\n",
      "File \u001b[0;32mh5py/_objects.pyx:55\u001b[0m, in \u001b[0;36mh5py._objects.with_phil.wrapper\u001b[0;34m()\u001b[0m\n",
      "File \u001b[0;32m~/anaconda3/envs/test/lib/python3.10/site-packages/h5py/_hl/dataset.py:758\u001b[0m, in \u001b[0;36mDataset.__getitem__\u001b[0;34m(self, args, new_dtype)\u001b[0m\n\u001b[1;32m    756\u001b[0m \u001b[38;5;28;01mif\u001b[39;00m \u001b[38;5;28mself\u001b[39m\u001b[38;5;241m.\u001b[39m_fast_read_ok \u001b[38;5;129;01mand\u001b[39;00m (new_dtype \u001b[38;5;129;01mis\u001b[39;00m \u001b[38;5;28;01mNone\u001b[39;00m):\n\u001b[1;32m    757\u001b[0m     \u001b[38;5;28;01mtry\u001b[39;00m:\n\u001b[0;32m--> 758\u001b[0m         \u001b[38;5;28;01mreturn\u001b[39;00m \u001b[38;5;28;43mself\u001b[39;49m\u001b[38;5;241;43m.\u001b[39;49m\u001b[43m_fast_reader\u001b[49m\u001b[38;5;241;43m.\u001b[39;49m\u001b[43mread\u001b[49m\u001b[43m(\u001b[49m\u001b[43margs\u001b[49m\u001b[43m)\u001b[49m\n\u001b[1;32m    759\u001b[0m     \u001b[38;5;28;01mexcept\u001b[39;00m \u001b[38;5;167;01mTypeError\u001b[39;00m:\n\u001b[1;32m    760\u001b[0m         \u001b[38;5;28;01mpass\u001b[39;00m  \u001b[38;5;66;03m# Fall back to Python read pathway below\u001b[39;00m\n",
      "File \u001b[0;32mh5py/_selector.pyx:368\u001b[0m, in \u001b[0;36mh5py._selector.Reader.read\u001b[0;34m()\u001b[0m\n",
      "File \u001b[0;32mh5py/_selector.pyx:342\u001b[0m, in \u001b[0;36mh5py._selector.Reader.make_array\u001b[0;34m()\u001b[0m\n",
      "\u001b[0;31mMemoryError\u001b[0m: Unable to allocate 68.4 GiB for an array with shape (1400, 256, 256, 200) and data type float32"
     ]
    }
   ],
   "source": [
    "input_file = \"../data/ns_contextual/ns_random_forces.h5\"\n",
    "output_file = \"../data/ns_contextual/ns_random_forces_v1.h5\"\n",
    "\n",
    "with h5py.File(input_file, 'r') as f_in:\n",
    "    with h5py.File(output_file, 'a') as f_out:\n",
    "        merge_dataset_chunked(f_in, f_out)\n",
    "\n",
    "        # Read the data into memory\n",
    "        a_data = f_out['a'][:]\n",
    "        u_data = f_out['u'][:]\n",
    "\n",
    "        # Process the data\n",
    "        expanded_a_data = np.expand_dims(a_data, axis=-1)\n",
    "        concatenated_data = np.concatenate((expanded_a_data, u_data), axis=-1)\n",
    "\n",
    "        # Replace the 'u' dataset\n",
    "        del f_out['u']  # Delete the existing 'u' dataset\n",
    "        f_out.create_dataset('u', data=concatenated_data)\n",
    "\n",
    "        # Optionally, delete the 'a' dataset if no longer needed\n",
    "        del f_out['a']"
   ]
  },
  {
   "cell_type": "code",
   "execution_count": null,
   "metadata": {},
   "outputs": [],
   "source": [
    "source_h5_path = \"../data/ns_contextual/ns_random_forces_v1.h5\"\n",
    "target_h5_path = \"../data/ns_contextual/ns_random_forces_v0.h5\"\n",
    "copy_datasets(source_h5_path, target_h5_path)"
   ]
  },
  {
   "cell_type": "code",
   "execution_count": null,
   "metadata": {},
   "outputs": [],
   "source": [
    "!rm \"../data/ns_contextual/ns_random_forces_v1.h5\""
   ]
  }
 ],
 "metadata": {
  "kernelspec": {
   "display_name": "test",
   "language": "python",
   "name": "python3"
  },
  "language_info": {
   "codemirror_mode": {
    "name": "ipython",
    "version": 3
   },
   "file_extension": ".py",
   "mimetype": "text/x-python",
   "name": "python",
   "nbconvert_exporter": "python",
   "pygments_lexer": "ipython3",
   "version": "3.10.0"
  }
 },
 "nbformat": 4,
 "nbformat_minor": 2
}
